{
 "cells": [
  {
   "cell_type": "markdown",
   "metadata": {},
   "source": [
    "# Used BMW prediction\n",
    "\n",
    "Sulthan Abiyyu | 24 January 2022"
   ]
  },
  {
   "cell_type": "code",
   "execution_count": 26,
   "metadata": {},
   "outputs": [],
   "source": [
    "import pandas as pd"
   ]
  },
  {
   "cell_type": "code",
   "execution_count": 27,
   "metadata": {},
   "outputs": [
    {
     "data": {
      "text/html": [
       "<div>\n",
       "<style scoped>\n",
       "    .dataframe tbody tr th:only-of-type {\n",
       "        vertical-align: middle;\n",
       "    }\n",
       "\n",
       "    .dataframe tbody tr th {\n",
       "        vertical-align: top;\n",
       "    }\n",
       "\n",
       "    .dataframe thead th {\n",
       "        text-align: right;\n",
       "    }\n",
       "</style>\n",
       "<table border=\"1\" class=\"dataframe\">\n",
       "  <thead>\n",
       "    <tr style=\"text-align: right;\">\n",
       "      <th></th>\n",
       "      <th>model</th>\n",
       "      <th>year</th>\n",
       "      <th>price</th>\n",
       "      <th>transmission</th>\n",
       "      <th>mileage</th>\n",
       "      <th>fuelType</th>\n",
       "      <th>tax</th>\n",
       "      <th>mpg</th>\n",
       "      <th>engineSize</th>\n",
       "    </tr>\n",
       "  </thead>\n",
       "  <tbody>\n",
       "    <tr>\n",
       "      <th>0</th>\n",
       "      <td>5 Series</td>\n",
       "      <td>2014</td>\n",
       "      <td>11200</td>\n",
       "      <td>Automatic</td>\n",
       "      <td>67068</td>\n",
       "      <td>Diesel</td>\n",
       "      <td>125</td>\n",
       "      <td>57.6</td>\n",
       "      <td>2.0</td>\n",
       "    </tr>\n",
       "    <tr>\n",
       "      <th>1</th>\n",
       "      <td>6 Series</td>\n",
       "      <td>2018</td>\n",
       "      <td>27000</td>\n",
       "      <td>Automatic</td>\n",
       "      <td>14827</td>\n",
       "      <td>Petrol</td>\n",
       "      <td>145</td>\n",
       "      <td>42.8</td>\n",
       "      <td>2.0</td>\n",
       "    </tr>\n",
       "    <tr>\n",
       "      <th>2</th>\n",
       "      <td>5 Series</td>\n",
       "      <td>2016</td>\n",
       "      <td>16000</td>\n",
       "      <td>Automatic</td>\n",
       "      <td>62794</td>\n",
       "      <td>Diesel</td>\n",
       "      <td>160</td>\n",
       "      <td>51.4</td>\n",
       "      <td>3.0</td>\n",
       "    </tr>\n",
       "    <tr>\n",
       "      <th>3</th>\n",
       "      <td>1 Series</td>\n",
       "      <td>2017</td>\n",
       "      <td>12750</td>\n",
       "      <td>Automatic</td>\n",
       "      <td>26676</td>\n",
       "      <td>Diesel</td>\n",
       "      <td>145</td>\n",
       "      <td>72.4</td>\n",
       "      <td>1.5</td>\n",
       "    </tr>\n",
       "    <tr>\n",
       "      <th>4</th>\n",
       "      <td>7 Series</td>\n",
       "      <td>2014</td>\n",
       "      <td>14500</td>\n",
       "      <td>Automatic</td>\n",
       "      <td>39554</td>\n",
       "      <td>Diesel</td>\n",
       "      <td>160</td>\n",
       "      <td>50.4</td>\n",
       "      <td>3.0</td>\n",
       "    </tr>\n",
       "  </tbody>\n",
       "</table>\n",
       "</div>"
      ],
      "text/plain": [
       "       model  year  price transmission  mileage fuelType  tax   mpg  \\\n",
       "0   5 Series  2014  11200    Automatic    67068   Diesel  125  57.6   \n",
       "1   6 Series  2018  27000    Automatic    14827   Petrol  145  42.8   \n",
       "2   5 Series  2016  16000    Automatic    62794   Diesel  160  51.4   \n",
       "3   1 Series  2017  12750    Automatic    26676   Diesel  145  72.4   \n",
       "4   7 Series  2014  14500    Automatic    39554   Diesel  160  50.4   \n",
       "\n",
       "   engineSize  \n",
       "0         2.0  \n",
       "1         2.0  \n",
       "2         3.0  \n",
       "3         1.5  \n",
       "4         3.0  "
      ]
     },
     "execution_count": 27,
     "metadata": {},
     "output_type": "execute_result"
    }
   ],
   "source": [
    "bmw = pd.read_csv(\"./data/bmw.csv\")\n",
    "bmw.head()"
   ]
  },
  {
   "cell_type": "markdown",
   "metadata": {},
   "source": [
    "### Preprocessing"
   ]
  },
  {
   "cell_type": "code",
   "execution_count": 28,
   "metadata": {},
   "outputs": [
    {
     "data": {
      "text/plain": [
       "model           0\n",
       "year            0\n",
       "price           0\n",
       "transmission    0\n",
       "mileage         0\n",
       "fuelType        0\n",
       "tax             0\n",
       "mpg             0\n",
       "engineSize      0\n",
       "dtype: int64"
      ]
     },
     "execution_count": 28,
     "metadata": {},
     "output_type": "execute_result"
    }
   ],
   "source": [
    "bmw.isna().sum()"
   ]
  },
  {
   "cell_type": "code",
   "execution_count": 29,
   "metadata": {},
   "outputs": [
    {
     "data": {
      "text/plain": [
       "(24, 3, 5)"
      ]
     },
     "execution_count": 29,
     "metadata": {},
     "output_type": "execute_result"
    }
   ],
   "source": [
    "bmw[\"model\"].nunique(), bmw[\"transmission\"].nunique(), bmw[\"fuelType\"].nunique()"
   ]
  },
  {
   "cell_type": "code",
   "execution_count": 30,
   "metadata": {},
   "outputs": [
    {
     "data": {
      "text/html": [
       "<div>\n",
       "<style scoped>\n",
       "    .dataframe tbody tr th:only-of-type {\n",
       "        vertical-align: middle;\n",
       "    }\n",
       "\n",
       "    .dataframe tbody tr th {\n",
       "        vertical-align: top;\n",
       "    }\n",
       "\n",
       "    .dataframe thead th {\n",
       "        text-align: right;\n",
       "    }\n",
       "</style>\n",
       "<table border=\"1\" class=\"dataframe\">\n",
       "  <thead>\n",
       "    <tr style=\"text-align: right;\">\n",
       "      <th></th>\n",
       "      <th>year</th>\n",
       "      <th>price</th>\n",
       "      <th>mileage</th>\n",
       "      <th>tax</th>\n",
       "      <th>mpg</th>\n",
       "      <th>engineSize</th>\n",
       "      <th>model_ 1 Series</th>\n",
       "      <th>model_ 2 Series</th>\n",
       "      <th>model_ 3 Series</th>\n",
       "      <th>model_ 4 Series</th>\n",
       "      <th>...</th>\n",
       "      <th>model_ i3</th>\n",
       "      <th>model_ i8</th>\n",
       "      <th>transmission_Automatic</th>\n",
       "      <th>transmission_Manual</th>\n",
       "      <th>transmission_Semi-Auto</th>\n",
       "      <th>fuelType_Diesel</th>\n",
       "      <th>fuelType_Electric</th>\n",
       "      <th>fuelType_Hybrid</th>\n",
       "      <th>fuelType_Other</th>\n",
       "      <th>fuelType_Petrol</th>\n",
       "    </tr>\n",
       "  </thead>\n",
       "  <tbody>\n",
       "    <tr>\n",
       "      <th>0</th>\n",
       "      <td>2014</td>\n",
       "      <td>11200</td>\n",
       "      <td>67068</td>\n",
       "      <td>125</td>\n",
       "      <td>57.6</td>\n",
       "      <td>2.0</td>\n",
       "      <td>0</td>\n",
       "      <td>0</td>\n",
       "      <td>0</td>\n",
       "      <td>0</td>\n",
       "      <td>...</td>\n",
       "      <td>0</td>\n",
       "      <td>0</td>\n",
       "      <td>1</td>\n",
       "      <td>0</td>\n",
       "      <td>0</td>\n",
       "      <td>1</td>\n",
       "      <td>0</td>\n",
       "      <td>0</td>\n",
       "      <td>0</td>\n",
       "      <td>0</td>\n",
       "    </tr>\n",
       "    <tr>\n",
       "      <th>1</th>\n",
       "      <td>2018</td>\n",
       "      <td>27000</td>\n",
       "      <td>14827</td>\n",
       "      <td>145</td>\n",
       "      <td>42.8</td>\n",
       "      <td>2.0</td>\n",
       "      <td>0</td>\n",
       "      <td>0</td>\n",
       "      <td>0</td>\n",
       "      <td>0</td>\n",
       "      <td>...</td>\n",
       "      <td>0</td>\n",
       "      <td>0</td>\n",
       "      <td>1</td>\n",
       "      <td>0</td>\n",
       "      <td>0</td>\n",
       "      <td>0</td>\n",
       "      <td>0</td>\n",
       "      <td>0</td>\n",
       "      <td>0</td>\n",
       "      <td>1</td>\n",
       "    </tr>\n",
       "    <tr>\n",
       "      <th>2</th>\n",
       "      <td>2016</td>\n",
       "      <td>16000</td>\n",
       "      <td>62794</td>\n",
       "      <td>160</td>\n",
       "      <td>51.4</td>\n",
       "      <td>3.0</td>\n",
       "      <td>0</td>\n",
       "      <td>0</td>\n",
       "      <td>0</td>\n",
       "      <td>0</td>\n",
       "      <td>...</td>\n",
       "      <td>0</td>\n",
       "      <td>0</td>\n",
       "      <td>1</td>\n",
       "      <td>0</td>\n",
       "      <td>0</td>\n",
       "      <td>1</td>\n",
       "      <td>0</td>\n",
       "      <td>0</td>\n",
       "      <td>0</td>\n",
       "      <td>0</td>\n",
       "    </tr>\n",
       "    <tr>\n",
       "      <th>3</th>\n",
       "      <td>2017</td>\n",
       "      <td>12750</td>\n",
       "      <td>26676</td>\n",
       "      <td>145</td>\n",
       "      <td>72.4</td>\n",
       "      <td>1.5</td>\n",
       "      <td>1</td>\n",
       "      <td>0</td>\n",
       "      <td>0</td>\n",
       "      <td>0</td>\n",
       "      <td>...</td>\n",
       "      <td>0</td>\n",
       "      <td>0</td>\n",
       "      <td>1</td>\n",
       "      <td>0</td>\n",
       "      <td>0</td>\n",
       "      <td>1</td>\n",
       "      <td>0</td>\n",
       "      <td>0</td>\n",
       "      <td>0</td>\n",
       "      <td>0</td>\n",
       "    </tr>\n",
       "    <tr>\n",
       "      <th>4</th>\n",
       "      <td>2014</td>\n",
       "      <td>14500</td>\n",
       "      <td>39554</td>\n",
       "      <td>160</td>\n",
       "      <td>50.4</td>\n",
       "      <td>3.0</td>\n",
       "      <td>0</td>\n",
       "      <td>0</td>\n",
       "      <td>0</td>\n",
       "      <td>0</td>\n",
       "      <td>...</td>\n",
       "      <td>0</td>\n",
       "      <td>0</td>\n",
       "      <td>1</td>\n",
       "      <td>0</td>\n",
       "      <td>0</td>\n",
       "      <td>1</td>\n",
       "      <td>0</td>\n",
       "      <td>0</td>\n",
       "      <td>0</td>\n",
       "      <td>0</td>\n",
       "    </tr>\n",
       "  </tbody>\n",
       "</table>\n",
       "<p>5 rows × 38 columns</p>\n",
       "</div>"
      ],
      "text/plain": [
       "   year  price  mileage  tax   mpg  engineSize  model_ 1 Series  \\\n",
       "0  2014  11200    67068  125  57.6         2.0                0   \n",
       "1  2018  27000    14827  145  42.8         2.0                0   \n",
       "2  2016  16000    62794  160  51.4         3.0                0   \n",
       "3  2017  12750    26676  145  72.4         1.5                1   \n",
       "4  2014  14500    39554  160  50.4         3.0                0   \n",
       "\n",
       "   model_ 2 Series  model_ 3 Series  model_ 4 Series  ...  model_ i3  \\\n",
       "0                0                0                0  ...          0   \n",
       "1                0                0                0  ...          0   \n",
       "2                0                0                0  ...          0   \n",
       "3                0                0                0  ...          0   \n",
       "4                0                0                0  ...          0   \n",
       "\n",
       "   model_ i8  transmission_Automatic  transmission_Manual  \\\n",
       "0          0                       1                    0   \n",
       "1          0                       1                    0   \n",
       "2          0                       1                    0   \n",
       "3          0                       1                    0   \n",
       "4          0                       1                    0   \n",
       "\n",
       "   transmission_Semi-Auto  fuelType_Diesel  fuelType_Electric  \\\n",
       "0                       0                1                  0   \n",
       "1                       0                0                  0   \n",
       "2                       0                1                  0   \n",
       "3                       0                1                  0   \n",
       "4                       0                1                  0   \n",
       "\n",
       "   fuelType_Hybrid  fuelType_Other  fuelType_Petrol  \n",
       "0                0               0                0  \n",
       "1                0               0                1  \n",
       "2                0               0                0  \n",
       "3                0               0                0  \n",
       "4                0               0                0  \n",
       "\n",
       "[5 rows x 38 columns]"
      ]
     },
     "execution_count": 30,
     "metadata": {},
     "output_type": "execute_result"
    }
   ],
   "source": [
    "cat_col = [\"model\", \"transmission\", \"fuelType\"]\n",
    "\n",
    "df = pd.get_dummies(bmw, columns=cat_col)\n",
    "df.head()\n"
   ]
  },
  {
   "cell_type": "code",
   "execution_count": 31,
   "metadata": {},
   "outputs": [
    {
     "name": "stdout",
     "output_type": "stream",
     "text": [
      "<class 'pandas.core.frame.DataFrame'>\n",
      "RangeIndex: 10781 entries, 0 to 10780\n",
      "Data columns (total 38 columns):\n",
      " #   Column                  Non-Null Count  Dtype  \n",
      "---  ------                  --------------  -----  \n",
      " 0   year                    10781 non-null  int64  \n",
      " 1   price                   10781 non-null  int64  \n",
      " 2   mileage                 10781 non-null  int64  \n",
      " 3   tax                     10781 non-null  int64  \n",
      " 4   mpg                     10781 non-null  float64\n",
      " 5   engineSize              10781 non-null  float64\n",
      " 6   model_ 1 Series         10781 non-null  uint8  \n",
      " 7   model_ 2 Series         10781 non-null  uint8  \n",
      " 8   model_ 3 Series         10781 non-null  uint8  \n",
      " 9   model_ 4 Series         10781 non-null  uint8  \n",
      " 10  model_ 5 Series         10781 non-null  uint8  \n",
      " 11  model_ 6 Series         10781 non-null  uint8  \n",
      " 12  model_ 7 Series         10781 non-null  uint8  \n",
      " 13  model_ 8 Series         10781 non-null  uint8  \n",
      " 14  model_ M2               10781 non-null  uint8  \n",
      " 15  model_ M3               10781 non-null  uint8  \n",
      " 16  model_ M4               10781 non-null  uint8  \n",
      " 17  model_ M5               10781 non-null  uint8  \n",
      " 18  model_ M6               10781 non-null  uint8  \n",
      " 19  model_ X1               10781 non-null  uint8  \n",
      " 20  model_ X2               10781 non-null  uint8  \n",
      " 21  model_ X3               10781 non-null  uint8  \n",
      " 22  model_ X4               10781 non-null  uint8  \n",
      " 23  model_ X5               10781 non-null  uint8  \n",
      " 24  model_ X6               10781 non-null  uint8  \n",
      " 25  model_ X7               10781 non-null  uint8  \n",
      " 26  model_ Z3               10781 non-null  uint8  \n",
      " 27  model_ Z4               10781 non-null  uint8  \n",
      " 28  model_ i3               10781 non-null  uint8  \n",
      " 29  model_ i8               10781 non-null  uint8  \n",
      " 30  transmission_Automatic  10781 non-null  uint8  \n",
      " 31  transmission_Manual     10781 non-null  uint8  \n",
      " 32  transmission_Semi-Auto  10781 non-null  uint8  \n",
      " 33  fuelType_Diesel         10781 non-null  uint8  \n",
      " 34  fuelType_Electric       10781 non-null  uint8  \n",
      " 35  fuelType_Hybrid         10781 non-null  uint8  \n",
      " 36  fuelType_Other          10781 non-null  uint8  \n",
      " 37  fuelType_Petrol         10781 non-null  uint8  \n",
      "dtypes: float64(2), int64(4), uint8(32)\n",
      "memory usage: 842.4 KB\n"
     ]
    }
   ],
   "source": [
    "df.info()"
   ]
  },
  {
   "cell_type": "code",
   "execution_count": 32,
   "metadata": {},
   "outputs": [],
   "source": [
    "int_col = [\"mileage\", \"tax\", \"mpg\", \"engineSize\"]"
   ]
  },
  {
   "cell_type": "code",
   "execution_count": 33,
   "metadata": {},
   "outputs": [],
   "source": [
    "# standard scaler\n",
    "from sklearn.preprocessing import StandardScaler\n",
    "\n",
    "s = StandardScaler()\n",
    "df[int_col] = s.fit_transform(df[int_col])"
   ]
  },
  {
   "cell_type": "code",
   "execution_count": 36,
   "metadata": {},
   "outputs": [
    {
     "data": {
      "text/plain": [
       "0        2014\n",
       "1        2018\n",
       "2        2016\n",
       "3        2017\n",
       "4        2014\n",
       "         ... \n",
       "10776    2016\n",
       "10777    2016\n",
       "10778    2017\n",
       "10779    2014\n",
       "10780    2017\n",
       "Name: year, Length: 10781, dtype: category\n",
       "Categories (25, int64): [1996, 1997, 1998, 1999, ..., 2017, 2018, 2019, 2020]"
      ]
     },
     "execution_count": 36,
     "metadata": {},
     "output_type": "execute_result"
    }
   ],
   "source": [
    "df[\"year\"].astype(\"category\")"
   ]
  },
  {
   "cell_type": "code",
   "execution_count": 37,
   "metadata": {},
   "outputs": [
    {
     "data": {
      "text/plain": [
       "((10781, 37), (10781,))"
      ]
     },
     "execution_count": 37,
     "metadata": {},
     "output_type": "execute_result"
    }
   ],
   "source": [
    "X = df.drop([\"price\"], axis=1)\n",
    "y = df[\"price\"]\n",
    "\n",
    "X.shape, y.shape"
   ]
  },
  {
   "cell_type": "code",
   "execution_count": 42,
   "metadata": {},
   "outputs": [],
   "source": [
    "# train test split\n",
    "from sklearn.model_selection import train_test_split\n",
    "\n",
    "X_train, X_test, y_train, y_test = train_test_split(X, y, test_size=0.2, random_state=42)"
   ]
  },
  {
   "cell_type": "markdown",
   "metadata": {},
   "source": [
    "### Modeling"
   ]
  },
  {
   "cell_type": "code",
   "execution_count": 56,
   "metadata": {},
   "outputs": [
    {
     "name": "stderr",
     "output_type": "stream",
     "text": [
      "D:\\Anaconda\\envs\\DataScience\\lib\\site-packages\\sklearn\\linear_model\\_coordinate_descent.py:645: ConvergenceWarning: Objective did not converge. You might want to increase the number of iterations, check the scale of the features or consider increasing regularisation. Duality gap: 3.356e+10, tolerance: 1.126e+08\n",
      "  model = cd_fast.enet_coordinate_descent(\n"
     ]
    },
    {
     "data": {
      "text/plain": [
       "4257.819933605558"
      ]
     },
     "execution_count": 56,
     "metadata": {},
     "output_type": "execute_result"
    }
   ],
   "source": [
    "# elastic net\n",
    "import numpy as np\n",
    "from sklearn.linear_model import ElasticNet\n",
    "from sklearn.metrics import mean_squared_error\n",
    "\n",
    "en = ElasticNet(alpha=0.01, l1_ratio=1)\n",
    "en.fit(X_train, y_train)\n",
    "y_pred = en.predict(X_test)\n",
    "np.sqrt(mean_squared_error(y_test, y_pred)) # it is off by $4200"
   ]
  },
  {
   "cell_type": "code",
   "execution_count": 125,
   "metadata": {},
   "outputs": [],
   "source": [
    "import tensorflow\n",
    "from tensorflow.keras.models import Sequential\n",
    "from tensorflow.keras.layers import Dense, Dropout\n",
    "from tensorflow.keras.metrics import RootMeanSquaredError\n",
    "\n",
    "model = Sequential()\n",
    "model.add(Dense(units=100, activation=\"relu\", input_dim=X.shape[1]))\n",
    "model.add(Dropout(0.2))\n",
    "model.add(Dense(units=200, activation=\"relu\"))\n",
    "model.add(Dropout(0.4))\n",
    "model.add(Dense(units=1))"
   ]
  },
  {
   "cell_type": "code",
   "execution_count": 126,
   "metadata": {},
   "outputs": [],
   "source": [
    "rmse = RootMeanSquaredError()\n",
    "\n",
    "model.compile(loss=\"mse\", optimizer=\"adam\", metrics=[rmse])"
   ]
  },
  {
   "cell_type": "code",
   "execution_count": 127,
   "metadata": {},
   "outputs": [
    {
     "name": "stdout",
     "output_type": "stream",
     "text": [
      "Epoch 1/100\n",
      "270/270 [==============================] - 1s 2ms/step - loss: 208545152.0000 - root_mean_squared_error: 14441.0928 - val_loss: 129598440.0000 - val_root_mean_squared_error: 11384.1309\n",
      "Epoch 2/100\n",
      "270/270 [==============================] - 0s 2ms/step - loss: 135042336.0000 - root_mean_squared_error: 11620.7715 - val_loss: 127742608.0000 - val_root_mean_squared_error: 11302.3271\n",
      "Epoch 3/100\n",
      "270/270 [==============================] - 0s 2ms/step - loss: 135948288.0000 - root_mean_squared_error: 11659.6865 - val_loss: 126495336.0000 - val_root_mean_squared_error: 11247.0146\n",
      "Epoch 4/100\n",
      "270/270 [==============================] - 0s 2ms/step - loss: 133569832.0000 - root_mean_squared_error: 11557.2412 - val_loss: 125752880.0000 - val_root_mean_squared_error: 11213.9590\n",
      "Epoch 5/100\n",
      "270/270 [==============================] - 0s 2ms/step - loss: 133606872.0000 - root_mean_squared_error: 11558.8438 - val_loss: 126227416.0000 - val_root_mean_squared_error: 11235.0977\n",
      "Epoch 6/100\n",
      "270/270 [==============================] - 0s 2ms/step - loss: 132280984.0000 - root_mean_squared_error: 11501.3467 - val_loss: 123330528.0000 - val_root_mean_squared_error: 11105.4277\n",
      "Epoch 7/100\n",
      "270/270 [==============================] - 0s 2ms/step - loss: 129670072.0000 - root_mean_squared_error: 11387.2764 - val_loss: 122314856.0000 - val_root_mean_squared_error: 11059.6045\n",
      "Epoch 8/100\n",
      "270/270 [==============================] - 0s 2ms/step - loss: 129613792.0000 - root_mean_squared_error: 11384.8057 - val_loss: 120508864.0000 - val_root_mean_squared_error: 10977.6533\n",
      "Epoch 9/100\n",
      "270/270 [==============================] - 0s 2ms/step - loss: 126173752.0000 - root_mean_squared_error: 11232.7090 - val_loss: 116757720.0000 - val_root_mean_squared_error: 10805.4482\n",
      "Epoch 10/100\n",
      "270/270 [==============================] - 0s 2ms/step - loss: 123097704.0000 - root_mean_squared_error: 11094.9404 - val_loss: 112759896.0000 - val_root_mean_squared_error: 10618.8467\n",
      "Epoch 11/100\n",
      "270/270 [==============================] - 0s 2ms/step - loss: 118040576.0000 - root_mean_squared_error: 10864.6484 - val_loss: 108719976.0000 - val_root_mean_squared_error: 10426.8867\n",
      "Epoch 12/100\n",
      "270/270 [==============================] - 0s 2ms/step - loss: 110147816.0000 - root_mean_squared_error: 10495.1328 - val_loss: 98248248.0000 - val_root_mean_squared_error: 9912.0254\n",
      "Epoch 13/100\n",
      "270/270 [==============================] - 0s 2ms/step - loss: 99969832.0000 - root_mean_squared_error: 9998.4912 - val_loss: 93446888.0000 - val_root_mean_squared_error: 9666.7930\n",
      "Epoch 14/100\n",
      "270/270 [==============================] - 0s 2ms/step - loss: 87470920.0000 - root_mean_squared_error: 9352.5889 - val_loss: 74061744.0000 - val_root_mean_squared_error: 8605.9131\n",
      "Epoch 15/100\n",
      "270/270 [==============================] - 0s 2ms/step - loss: 77124528.0000 - root_mean_squared_error: 8782.0576 - val_loss: 63969060.0000 - val_root_mean_squared_error: 7998.0659\n",
      "Epoch 16/100\n",
      "270/270 [==============================] - 0s 2ms/step - loss: 67669504.0000 - root_mean_squared_error: 8226.1475 - val_loss: 57179520.0000 - val_root_mean_squared_error: 7561.7139\n",
      "Epoch 17/100\n",
      "270/270 [==============================] - 0s 2ms/step - loss: 62824216.0000 - root_mean_squared_error: 7926.1729 - val_loss: 52996952.0000 - val_root_mean_squared_error: 7279.9004\n",
      "Epoch 18/100\n",
      "270/270 [==============================] - 0s 2ms/step - loss: 59044864.0000 - root_mean_squared_error: 7684.0654 - val_loss: 50074712.0000 - val_root_mean_squared_error: 7076.3486\n",
      "Epoch 19/100\n",
      "270/270 [==============================] - 0s 2ms/step - loss: 55941448.0000 - root_mean_squared_error: 7479.4014 - val_loss: 46695284.0000 - val_root_mean_squared_error: 6833.3945\n",
      "Epoch 20/100\n",
      "270/270 [==============================] - 0s 2ms/step - loss: 52703572.0000 - root_mean_squared_error: 7259.7227 - val_loss: 50757424.0000 - val_root_mean_squared_error: 7124.4243\n",
      "Epoch 21/100\n",
      "270/270 [==============================] - 0s 2ms/step - loss: 50115092.0000 - root_mean_squared_error: 7079.2012 - val_loss: 41496360.0000 - val_root_mean_squared_error: 6441.7666\n",
      "Epoch 22/100\n",
      "270/270 [==============================] - 0s 2ms/step - loss: 47553476.0000 - root_mean_squared_error: 6895.9028 - val_loss: 39708332.0000 - val_root_mean_squared_error: 6301.4546\n",
      "Epoch 23/100\n",
      "270/270 [==============================] - 0s 2ms/step - loss: 45898416.0000 - root_mean_squared_error: 6774.8369 - val_loss: 40977000.0000 - val_root_mean_squared_error: 6401.3281\n",
      "Epoch 24/100\n",
      "270/270 [==============================] - 0s 2ms/step - loss: 42705312.0000 - root_mean_squared_error: 6534.9302 - val_loss: 34995432.0000 - val_root_mean_squared_error: 5915.6938\n",
      "Epoch 25/100\n",
      "270/270 [==============================] - 0s 2ms/step - loss: 42839028.0000 - root_mean_squared_error: 6545.1528 - val_loss: 33366016.0000 - val_root_mean_squared_error: 5776.3325\n",
      "Epoch 26/100\n",
      "270/270 [==============================] - 0s 2ms/step - loss: 40901308.0000 - root_mean_squared_error: 6395.4131 - val_loss: 35573824.0000 - val_root_mean_squared_error: 5964.3794\n",
      "Epoch 27/100\n",
      "270/270 [==============================] - 0s 2ms/step - loss: 40078992.0000 - root_mean_squared_error: 6330.7969 - val_loss: 31275644.0000 - val_root_mean_squared_error: 5592.4634\n",
      "Epoch 28/100\n",
      "270/270 [==============================] - 0s 2ms/step - loss: 37762508.0000 - root_mean_squared_error: 6145.1206 - val_loss: 32030420.0000 - val_root_mean_squared_error: 5659.5425\n",
      "Epoch 29/100\n",
      "270/270 [==============================] - 0s 2ms/step - loss: 35948488.0000 - root_mean_squared_error: 5995.7056 - val_loss: 27894194.0000 - val_root_mean_squared_error: 5281.4956\n",
      "Epoch 30/100\n",
      "270/270 [==============================] - 0s 2ms/step - loss: 35614164.0000 - root_mean_squared_error: 5967.7603 - val_loss: 26928282.0000 - val_root_mean_squared_error: 5189.2466\n",
      "Epoch 31/100\n",
      "270/270 [==============================] - 0s 2ms/step - loss: 34937400.0000 - root_mean_squared_error: 5910.7866 - val_loss: 25689648.0000 - val_root_mean_squared_error: 5068.4956\n",
      "Epoch 32/100\n",
      "270/270 [==============================] - 0s 2ms/step - loss: 34429924.0000 - root_mean_squared_error: 5867.7017 - val_loss: 26307298.0000 - val_root_mean_squared_error: 5129.0640\n",
      "Epoch 33/100\n",
      "270/270 [==============================] - 0s 2ms/step - loss: 33585384.0000 - root_mean_squared_error: 5795.2900 - val_loss: 25560300.0000 - val_root_mean_squared_error: 5055.7197\n",
      "Epoch 34/100\n",
      "270/270 [==============================] - 0s 2ms/step - loss: 32762506.0000 - root_mean_squared_error: 5723.8540 - val_loss: 27137320.0000 - val_root_mean_squared_error: 5209.3491\n",
      "Epoch 35/100\n",
      "270/270 [==============================] - 0s 2ms/step - loss: 32454710.0000 - root_mean_squared_error: 5696.9033 - val_loss: 23172732.0000 - val_root_mean_squared_error: 4813.8062\n",
      "Epoch 36/100\n",
      "270/270 [==============================] - 0s 2ms/step - loss: 32023414.0000 - root_mean_squared_error: 5658.9233 - val_loss: 22746466.0000 - val_root_mean_squared_error: 4769.3257\n",
      "Epoch 37/100\n",
      "270/270 [==============================] - 0s 2ms/step - loss: 31428946.0000 - root_mean_squared_error: 5606.1523 - val_loss: 22644300.0000 - val_root_mean_squared_error: 4758.6025\n",
      "Epoch 38/100\n",
      "270/270 [==============================] - 0s 2ms/step - loss: 30489656.0000 - root_mean_squared_error: 5521.7441 - val_loss: 21661910.0000 - val_root_mean_squared_error: 4654.2358\n",
      "Epoch 39/100\n",
      "270/270 [==============================] - 0s 2ms/step - loss: 30736144.0000 - root_mean_squared_error: 5544.0186 - val_loss: 21187054.0000 - val_root_mean_squared_error: 4602.9399\n",
      "Epoch 40/100\n",
      "270/270 [==============================] - 0s 2ms/step - loss: 29915042.0000 - root_mean_squared_error: 5469.4644 - val_loss: 22063442.0000 - val_root_mean_squared_error: 4697.1738\n",
      "Epoch 41/100\n",
      "270/270 [==============================] - 0s 2ms/step - loss: 29832450.0000 - root_mean_squared_error: 5461.9092 - val_loss: 20814972.0000 - val_root_mean_squared_error: 4562.3428\n",
      "Epoch 42/100\n",
      "270/270 [==============================] - 0s 2ms/step - loss: 29925510.0000 - root_mean_squared_error: 5470.4214 - val_loss: 20677528.0000 - val_root_mean_squared_error: 4547.2549\n",
      "Epoch 43/100\n",
      "270/270 [==============================] - 0s 2ms/step - loss: 29723010.0000 - root_mean_squared_error: 5451.8813 - val_loss: 20511770.0000 - val_root_mean_squared_error: 4528.9922\n",
      "Epoch 44/100\n",
      "270/270 [==============================] - 0s 2ms/step - loss: 28906186.0000 - root_mean_squared_error: 5376.4473 - val_loss: 20913398.0000 - val_root_mean_squared_error: 4573.1167\n",
      "Epoch 45/100\n",
      "270/270 [==============================] - 0s 2ms/step - loss: 29358306.0000 - root_mean_squared_error: 5418.3306 - val_loss: 23069390.0000 - val_root_mean_squared_error: 4803.0605\n",
      "Epoch 46/100\n",
      "270/270 [==============================] - 0s 2ms/step - loss: 29482990.0000 - root_mean_squared_error: 5429.8242 - val_loss: 19686420.0000 - val_root_mean_squared_error: 4436.9380\n",
      "Epoch 47/100\n",
      "270/270 [==============================] - 0s 2ms/step - loss: 28189622.0000 - root_mean_squared_error: 5309.3901 - val_loss: 20106124.0000 - val_root_mean_squared_error: 4483.9854\n",
      "Epoch 48/100\n",
      "270/270 [==============================] - 0s 2ms/step - loss: 28738110.0000 - root_mean_squared_error: 5360.7939 - val_loss: 20225428.0000 - val_root_mean_squared_error: 4497.2690\n",
      "Epoch 49/100\n",
      "270/270 [==============================] - 0s 2ms/step - loss: 28060496.0000 - root_mean_squared_error: 5297.2158 - val_loss: 18867726.0000 - val_root_mean_squared_error: 4343.6997\n",
      "Epoch 50/100\n",
      "270/270 [==============================] - 0s 2ms/step - loss: 29012394.0000 - root_mean_squared_error: 5386.3154 - val_loss: 19020244.0000 - val_root_mean_squared_error: 4361.2207\n",
      "Epoch 51/100\n",
      "270/270 [==============================] - 0s 2ms/step - loss: 26890714.0000 - root_mean_squared_error: 5185.6255 - val_loss: 19893862.0000 - val_root_mean_squared_error: 4460.2534\n",
      "Epoch 52/100\n",
      "270/270 [==============================] - 0s 2ms/step - loss: 28590308.0000 - root_mean_squared_error: 5346.9907 - val_loss: 18312376.0000 - val_root_mean_squared_error: 4279.2964\n",
      "Epoch 53/100\n",
      "270/270 [==============================] - 0s 2ms/step - loss: 27635038.0000 - root_mean_squared_error: 5256.9038 - val_loss: 18114752.0000 - val_root_mean_squared_error: 4256.1431\n",
      "Epoch 54/100\n",
      "270/270 [==============================] - 0s 2ms/step - loss: 27509982.0000 - root_mean_squared_error: 5244.9961 - val_loss: 17991500.0000 - val_root_mean_squared_error: 4241.6387\n",
      "Epoch 55/100\n",
      "270/270 [==============================] - 0s 2ms/step - loss: 28343424.0000 - root_mean_squared_error: 5323.8540 - val_loss: 18489126.0000 - val_root_mean_squared_error: 4299.8984\n",
      "Epoch 56/100\n",
      "270/270 [==============================] - 0s 2ms/step - loss: 26744206.0000 - root_mean_squared_error: 5171.4800 - val_loss: 19162008.0000 - val_root_mean_squared_error: 4377.4429\n",
      "Epoch 57/100\n",
      "270/270 [==============================] - 0s 2ms/step - loss: 27045066.0000 - root_mean_squared_error: 5200.4873 - val_loss: 17693570.0000 - val_root_mean_squared_error: 4206.3726\n",
      "Epoch 58/100\n",
      "270/270 [==============================] - 0s 2ms/step - loss: 27023188.0000 - root_mean_squared_error: 5198.3833 - val_loss: 18586122.0000 - val_root_mean_squared_error: 4311.1626\n",
      "Epoch 59/100\n",
      "270/270 [==============================] - 0s 2ms/step - loss: 26108032.0000 - root_mean_squared_error: 5109.6021 - val_loss: 18248668.0000 - val_root_mean_squared_error: 4271.8462\n",
      "Epoch 60/100\n",
      "270/270 [==============================] - 0s 2ms/step - loss: 26474518.0000 - root_mean_squared_error: 5145.3394 - val_loss: 17981114.0000 - val_root_mean_squared_error: 4240.4146\n",
      "Epoch 61/100\n",
      "270/270 [==============================] - 0s 2ms/step - loss: 26609894.0000 - root_mean_squared_error: 5158.4780 - val_loss: 17493836.0000 - val_root_mean_squared_error: 4182.5635\n",
      "Epoch 62/100\n",
      "270/270 [==============================] - 0s 2ms/step - loss: 26959588.0000 - root_mean_squared_error: 5192.2622 - val_loss: 17435564.0000 - val_root_mean_squared_error: 4175.5913\n",
      "Epoch 63/100\n",
      "270/270 [==============================] - 0s 2ms/step - loss: 26028118.0000 - root_mean_squared_error: 5101.7759 - val_loss: 17192612.0000 - val_root_mean_squared_error: 4146.3975\n",
      "Epoch 64/100\n",
      "270/270 [==============================] - 0s 2ms/step - loss: 25644526.0000 - root_mean_squared_error: 5064.0425 - val_loss: 18416008.0000 - val_root_mean_squared_error: 4291.3877\n",
      "Epoch 65/100\n",
      "270/270 [==============================] - 0s 2ms/step - loss: 25876974.0000 - root_mean_squared_error: 5086.9414 - val_loss: 19697062.0000 - val_root_mean_squared_error: 4438.1372\n",
      "Epoch 66/100\n",
      "270/270 [==============================] - 0s 2ms/step - loss: 26367044.0000 - root_mean_squared_error: 5134.8848 - val_loss: 16966868.0000 - val_root_mean_squared_error: 4119.0859\n",
      "Epoch 67/100\n",
      "270/270 [==============================] - 0s 2ms/step - loss: 25958912.0000 - root_mean_squared_error: 5094.9888 - val_loss: 18435640.0000 - val_root_mean_squared_error: 4293.6743\n",
      "Epoch 68/100\n",
      "270/270 [==============================] - 0s 2ms/step - loss: 26158164.0000 - root_mean_squared_error: 5114.5054 - val_loss: 17374394.0000 - val_root_mean_squared_error: 4168.2603\n",
      "Epoch 69/100\n",
      "270/270 [==============================] - 0s 2ms/step - loss: 25658886.0000 - root_mean_squared_error: 5065.4600 - val_loss: 17448712.0000 - val_root_mean_squared_error: 4177.1655\n",
      "Epoch 70/100\n",
      "270/270 [==============================] - 0s 2ms/step - loss: 25926272.0000 - root_mean_squared_error: 5091.7847 - val_loss: 16771120.0000 - val_root_mean_squared_error: 4095.2559\n",
      "Epoch 71/100\n",
      "270/270 [==============================] - 0s 2ms/step - loss: 25481984.0000 - root_mean_squared_error: 5047.9683 - val_loss: 16857328.0000 - val_root_mean_squared_error: 4105.7676\n",
      "Epoch 72/100\n",
      "270/270 [==============================] - 0s 2ms/step - loss: 26018822.0000 - root_mean_squared_error: 5100.8647 - val_loss: 17314228.0000 - val_root_mean_squared_error: 4161.0371\n",
      "Epoch 73/100\n",
      "270/270 [==============================] - 0s 2ms/step - loss: 26234452.0000 - root_mean_squared_error: 5121.9580 - val_loss: 16883384.0000 - val_root_mean_squared_error: 4108.9395\n",
      "Epoch 74/100\n",
      "270/270 [==============================] - 0s 2ms/step - loss: 24587224.0000 - root_mean_squared_error: 4958.5508 - val_loss: 19041956.0000 - val_root_mean_squared_error: 4363.7090\n",
      "Epoch 75/100\n",
      "270/270 [==============================] - 0s 2ms/step - loss: 25526484.0000 - root_mean_squared_error: 5052.3740 - val_loss: 16340038.0000 - val_root_mean_squared_error: 4042.2812\n",
      "Epoch 76/100\n",
      "270/270 [==============================] - 0s 2ms/step - loss: 25110482.0000 - root_mean_squared_error: 5011.0361 - val_loss: 17717430.0000 - val_root_mean_squared_error: 4209.2080\n",
      "Epoch 77/100\n",
      "270/270 [==============================] - 0s 2ms/step - loss: 25345008.0000 - root_mean_squared_error: 5034.3828 - val_loss: 17346182.0000 - val_root_mean_squared_error: 4164.8750\n",
      "Epoch 78/100\n",
      "270/270 [==============================] - 0s 2ms/step - loss: 23885936.0000 - root_mean_squared_error: 4887.3242 - val_loss: 15968754.0000 - val_root_mean_squared_error: 3996.0923\n",
      "Epoch 79/100\n",
      "270/270 [==============================] - 0s 2ms/step - loss: 25542466.0000 - root_mean_squared_error: 5053.9556 - val_loss: 16445309.0000 - val_root_mean_squared_error: 4055.2817\n",
      "Epoch 80/100\n",
      "270/270 [==============================] - 0s 2ms/step - loss: 25221220.0000 - root_mean_squared_error: 5022.0732 - val_loss: 17306862.0000 - val_root_mean_squared_error: 4160.1519\n",
      "Epoch 81/100\n",
      "270/270 [==============================] - 0s 2ms/step - loss: 24727662.0000 - root_mean_squared_error: 4972.6914 - val_loss: 16317693.0000 - val_root_mean_squared_error: 4039.5164\n",
      "Epoch 82/100\n",
      "270/270 [==============================] - 0s 2ms/step - loss: 24944798.0000 - root_mean_squared_error: 4994.4766 - val_loss: 16614236.0000 - val_root_mean_squared_error: 4076.0564\n",
      "Epoch 83/100\n",
      "270/270 [==============================] - 0s 2ms/step - loss: 25087136.0000 - root_mean_squared_error: 5008.7061 - val_loss: 22330934.0000 - val_root_mean_squared_error: 4725.5615\n",
      "Epoch 84/100\n",
      "270/270 [==============================] - 0s 2ms/step - loss: 24703680.0000 - root_mean_squared_error: 4970.2798 - val_loss: 16209351.0000 - val_root_mean_squared_error: 4026.0837\n",
      "Epoch 85/100\n",
      "270/270 [==============================] - 0s 2ms/step - loss: 24760926.0000 - root_mean_squared_error: 4976.0352 - val_loss: 16105328.0000 - val_root_mean_squared_error: 4013.1443\n",
      "Epoch 86/100\n",
      "270/270 [==============================] - 0s 2ms/step - loss: 24151726.0000 - root_mean_squared_error: 4914.4404 - val_loss: 22738096.0000 - val_root_mean_squared_error: 4768.4478\n",
      "Epoch 87/100\n",
      "270/270 [==============================] - 0s 2ms/step - loss: 24104718.0000 - root_mean_squared_error: 4909.6558 - val_loss: 16844838.0000 - val_root_mean_squared_error: 4104.2461\n",
      "Epoch 88/100\n",
      "270/270 [==============================] - 0s 2ms/step - loss: 24665024.0000 - root_mean_squared_error: 4966.3896 - val_loss: 18614870.0000 - val_root_mean_squared_error: 4314.4951\n",
      "Epoch 89/100\n",
      "270/270 [==============================] - 0s 2ms/step - loss: 24434610.0000 - root_mean_squared_error: 4943.1377 - val_loss: 17522342.0000 - val_root_mean_squared_error: 4185.9697\n",
      "Epoch 90/100\n",
      "270/270 [==============================] - 0s 2ms/step - loss: 24569958.0000 - root_mean_squared_error: 4956.8091 - val_loss: 15878103.0000 - val_root_mean_squared_error: 3984.7336\n",
      "Epoch 91/100\n",
      "270/270 [==============================] - 0s 2ms/step - loss: 24102008.0000 - root_mean_squared_error: 4909.3794 - val_loss: 16779566.0000 - val_root_mean_squared_error: 4096.2866\n",
      "Epoch 92/100\n",
      "270/270 [==============================] - 0s 2ms/step - loss: 24819124.0000 - root_mean_squared_error: 4981.8794 - val_loss: 15590935.0000 - val_root_mean_squared_error: 3948.5359\n",
      "Epoch 93/100\n",
      "270/270 [==============================] - 0s 2ms/step - loss: 24946484.0000 - root_mean_squared_error: 4994.6455 - val_loss: 16492465.0000 - val_root_mean_squared_error: 4061.0916\n",
      "Epoch 94/100\n",
      "270/270 [==============================] - 0s 2ms/step - loss: 24531842.0000 - root_mean_squared_error: 4952.9629 - val_loss: 16522373.0000 - val_root_mean_squared_error: 4064.7722\n",
      "Epoch 95/100\n",
      "270/270 [==============================] - 0s 2ms/step - loss: 24862676.0000 - root_mean_squared_error: 4986.2485 - val_loss: 16617770.0000 - val_root_mean_squared_error: 4076.4900\n",
      "Epoch 96/100\n",
      "270/270 [==============================] - 0s 2ms/step - loss: 23346512.0000 - root_mean_squared_error: 4831.8228 - val_loss: 15349779.0000 - val_root_mean_squared_error: 3917.8794\n",
      "Epoch 97/100\n",
      "270/270 [==============================] - 0s 2ms/step - loss: 24010526.0000 - root_mean_squared_error: 4900.0537 - val_loss: 15536279.0000 - val_root_mean_squared_error: 3941.6086\n",
      "Epoch 98/100\n",
      "270/270 [==============================] - 0s 2ms/step - loss: 23567148.0000 - root_mean_squared_error: 4854.6006 - val_loss: 15699277.0000 - val_root_mean_squared_error: 3962.2312\n",
      "Epoch 99/100\n",
      "270/270 [==============================] - 0s 2ms/step - loss: 23694148.0000 - root_mean_squared_error: 4867.6636 - val_loss: 15219802.0000 - val_root_mean_squared_error: 3901.2563\n",
      "Epoch 100/100\n",
      "270/270 [==============================] - 0s 2ms/step - loss: 23762508.0000 - root_mean_squared_error: 4874.6802 - val_loss: 15409947.0000 - val_root_mean_squared_error: 3925.5505\n"
     ]
    }
   ],
   "source": [
    "import datetime\n",
    "import os\n",
    "\n",
    "\n",
    "logdir = os.path.join(\n",
    "    \"logs\", datetime.datetime.now().strftime(\"%Y%m%d-%H%M%S\"))\n",
    "tensorboard_callback = tensorflow.keras.callbacks.TensorBoard(logdir, histogram_freq=1)\n",
    "\n",
    "history = model.fit(X_train, y_train, epochs=100, batch_size=32, validation_data=[X_test,y_test], callbacks=[tensorboard_callback])"
   ]
  },
  {
   "cell_type": "code",
   "execution_count": 128,
   "metadata": {},
   "outputs": [
    {
     "data": {
      "image/png": "[encoded data removed]",
      "text/plain": [
       "<Figure size 432x288 with 1 Axes>"
      ]
     },
     "metadata": {
      "needs_background": "light"
     },
     "output_type": "display_data"
    }
   ],
   "source": [
    "# plot history\n",
    "import matplotlib.pyplot as plt\n",
    "\n",
    "rmse = history.history[\"root_mean_squared_error\"]\n",
    "val_rmse = history.history[\"val_root_mean_squared_error\"]\n",
    "\n",
    "plt.plot(rmse, label=\"train rmse\")\n",
    "plt.plot(val_rmse, label=\"val rmse\")\n",
    "plt.legend()\n",
    "plt.show()"
   ]
  },
  {
   "cell_type": "code",
   "execution_count": 129,
   "metadata": {},
   "outputs": [
    {
     "data": {
      "text/plain": [
       "3925.5504345176873"
      ]
     },
     "execution_count": 129,
     "metadata": {},
     "output_type": "execute_result"
    }
   ],
   "source": [
    "y_pred_nn = model.predict(X_test)\n",
    "\n",
    "np.sqrt(mean_squared_error(y_test, y_pred_nn))  # it is off by $3925\n"
   ]
  },
  {
   "cell_type": "markdown",
   "metadata": {},
   "source": [
    "I won't use nn, I'll try to maximize machine learning model's performance"
   ]
  },
  {
   "cell_type": "markdown",
   "metadata": {},
   "source": [
    "### Hypertuning"
   ]
  },
  {
   "cell_type": "code",
   "execution_count": 130,
   "metadata": {},
   "outputs": [],
   "source": [
    "import optuna\n",
    "\n",
    "def objective(trial):\n",
    "    l1_ratio = trial.suggest_uniform(\"l1_ratio\", 0, 1)\n",
    "    alpha = trial.suggest_loguniform(\"alpha\", 1e-5, 1e-1)\n",
    "    en = ElasticNet(alpha=alpha, l1_ratio=l1_ratio)\n",
    "    en.fit(X_train, y_train)\n",
    "    y_pred = en.predict(X_test)\n",
    "    return np.sqrt(mean_squared_error(y_test, y_pred))"
   ]
  },
  {
   "cell_type": "code",
   "execution_count": 135,
   "metadata": {},
   "outputs": [
    {
     "name": "stderr",
     "output_type": "stream",
     "text": [
      "\u001b[32m[I 2022-01-24 11:32:20,074]\u001b[0m A new study created in memory with name: no-name-750ffe28-0421-4a65-9f76-ea79d0e38582\u001b[0m\n",
      "\u001b[32m[I 2022-01-24 11:32:20,151]\u001b[0m Trial 0 finished with value: 4508.595738729315 and parameters: {'l1_ratio': 0.8069655854326531, 'alpha': 0.015526160515988095}. Best is trial 0 with value: 4508.595738729315.\u001b[0m\n",
      "\u001b[32m[I 2022-01-24 11:32:20,405]\u001b[0m Trial 1 finished with value: 4286.670636975919 and parameters: {'l1_ratio': 0.49892076939137, 'alpha': 0.0007691354332266549}. Best is trial 1 with value: 4286.670636975919.\u001b[0m\n",
      "\u001b[32m[I 2022-01-24 11:32:20,424]\u001b[0m Trial 2 finished with value: 5580.141437793321 and parameters: {'l1_ratio': 0.2408779478613724, 'alpha': 0.047845362353452325}. Best is trial 1 with value: 4286.670636975919.\u001b[0m\n",
      "\u001b[32m[I 2022-01-24 11:32:20,616]\u001b[0m Trial 3 finished with value: 4259.108147873871 and parameters: {'l1_ratio': 0.7671912642827224, 'alpha': 9.511989653843921e-05}. Best is trial 3 with value: 4259.108147873871.\u001b[0m\n",
      "\u001b[32m[I 2022-01-24 11:32:20,713]\u001b[0m Trial 4 finished with value: 4440.728710090381 and parameters: {'l1_ratio': 0.642922371076282, 'alpha': 0.006129119997348525}. Best is trial 3 with value: 4259.108147873871.\u001b[0m\n",
      "\u001b[32m[I 2022-01-24 11:32:20,860]\u001b[0m Trial 5 finished with value: 4360.2096565858 and parameters: {'l1_ratio': 0.762153675609662, 'alpha': 0.005281463662006454}. Best is trial 3 with value: 4259.108147873871.\u001b[0m\n",
      "\u001b[32m[I 2022-01-24 11:32:21,108]\u001b[0m Trial 6 finished with value: 4314.362837446537 and parameters: {'l1_ratio': 0.5421340130197224, 'alpha': 0.0015691597120187973}. Best is trial 3 with value: 4259.108147873871.\u001b[0m\n",
      "\u001b[32m[I 2022-01-24 11:32:21,255]\u001b[0m Trial 7 finished with value: 4373.205984673493 and parameters: {'l1_ratio': 0.6958816294157062, 'alpha': 0.004625602911476305}. Best is trial 3 with value: 4259.108147873871.\u001b[0m\n",
      "\u001b[32m[I 2022-01-24 11:32:21,547]\u001b[0m Trial 8 finished with value: 4258.227620325417 and parameters: {'l1_ratio': 0.7310697620215755, 'alpha': 2.575713955512875e-05}. Best is trial 8 with value: 4258.227620325417.\u001b[0m\n",
      "\u001b[32m[I 2022-01-24 11:32:21,632]\u001b[0m Trial 9 finished with value: 4503.057986352488 and parameters: {'l1_ratio': 0.4507685274822887, 'alpha': 0.005336304121491093}. Best is trial 8 with value: 4258.227620325417.\u001b[0m\n",
      "\u001b[32m[I 2022-01-24 11:32:21,903]\u001b[0m Trial 10 finished with value: 4257.852950934566 and parameters: {'l1_ratio': 0.910862431353231, 'alpha': 1.1030917017125964e-05}. Best is trial 10 with value: 4257.852950934566.\u001b[0m\n",
      "\u001b[32m[I 2022-01-24 11:32:22,150]\u001b[0m Trial 11 finished with value: 4257.796815312293 and parameters: {'l1_ratio': 0.9869473629852723, 'alpha': 1.0281464957546394e-05}. Best is trial 11 with value: 4257.796815312293.\u001b[0m\n",
      "\u001b[32m[I 2022-01-24 11:32:22,404]\u001b[0m Trial 12 finished with value: 4257.811676790893 and parameters: {'l1_ratio': 0.9660642322640051, 'alpha': 1.0546279037605261e-05}. Best is trial 11 with value: 4257.796815312293.\u001b[0m\n",
      "\u001b[32m[I 2022-01-24 11:32:22,653]\u001b[0m Trial 13 finished with value: 4257.811948588759 and parameters: {'l1_ratio': 0.9954415666643275, 'alpha': 7.869366914888805e-05}. Best is trial 11 with value: 4257.796815312293.\u001b[0m\n",
      "\u001b[32m[I 2022-01-24 11:32:22,867]\u001b[0m Trial 14 finished with value: 4271.109984749266 and parameters: {'l1_ratio': 0.030455479887521397, 'alpha': 0.00019913857633320793}. Best is trial 11 with value: 4257.796815312293.\u001b[0m\n",
      "\u001b[32m[I 2022-01-24 11:32:23,113]\u001b[0m Trial 15 finished with value: 4257.793615455066 and parameters: {'l1_ratio': 0.9913969528469831, 'alpha': 1.0013663932927354e-05}. Best is trial 15 with value: 4257.793615455066.\u001b[0m\n",
      "\u001b[32m[I 2022-01-24 11:32:23,368]\u001b[0m Trial 16 finished with value: 4258.177514069181 and parameters: {'l1_ratio': 0.8487999918857833, 'alpha': 4.037527341535018e-05}. Best is trial 15 with value: 4257.793615455066.\u001b[0m\n",
      "\u001b[32m[I 2022-01-24 11:32:23,579]\u001b[0m Trial 17 finished with value: 4265.927677213114 and parameters: {'l1_ratio': 0.35885359293744234, 'alpha': 0.00019550204656162883}. Best is trial 15 with value: 4257.793615455066.\u001b[0m\n",
      "\u001b[32m[I 2022-01-24 11:32:23,774]\u001b[0m Trial 18 finished with value: 4260.959665245131 and parameters: {'l1_ratio': 0.8918807943622497, 'alpha': 0.0004943549333435019}. Best is trial 15 with value: 4257.793615455066.\u001b[0m\n",
      "\u001b[32m[I 2022-01-24 11:32:24,021]\u001b[0m Trial 19 finished with value: 4258.334980412496 and parameters: {'l1_ratio': 0.6349505810864395, 'alpha': 2.386181715154745e-05}. Best is trial 15 with value: 4257.793615455066.\u001b[0m\n",
      "\u001b[32m[I 2022-01-24 11:32:24,218]\u001b[0m Trial 20 finished with value: 4261.079353872423 and parameters: {'l1_ratio': 0.04491344094856842, 'alpha': 5.79677371633351e-05}. Best is trial 15 with value: 4257.793615455066.\u001b[0m\n",
      "\u001b[32m[I 2022-01-24 11:32:24,468]\u001b[0m Trial 21 finished with value: 4257.794050128991 and parameters: {'l1_ratio': 0.9920458853374094, 'alpha': 1.1641445700557234e-05}. Best is trial 15 with value: 4257.793615455066.\u001b[0m\n",
      "\u001b[32m[I 2022-01-24 11:32:24,719]\u001b[0m Trial 22 finished with value: 4257.790120029422 and parameters: {'l1_ratio': 0.9966846447588165, 'alpha': 1.0158111450713303e-05}. Best is trial 22 with value: 4257.790120029422.\u001b[0m\n",
      "\u001b[32m[I 2022-01-24 11:32:24,964]\u001b[0m Trial 23 finished with value: 4257.984502071174 and parameters: {'l1_ratio': 0.8699711522806727, 'alpha': 2.3195140248557333e-05}. Best is trial 22 with value: 4257.790120029422.\u001b[0m\n",
      "\u001b[32m[I 2022-01-24 11:32:25,185]\u001b[0m Trial 24 finished with value: 4258.499367405156 and parameters: {'l1_ratio': 0.9318637362782718, 'alpha': 0.00016862776192236802}. Best is trial 22 with value: 4257.790120029422.\u001b[0m\n",
      "\u001b[32m[I 2022-01-24 11:32:25,439]\u001b[0m Trial 25 finished with value: 4258.046931212909 and parameters: {'l1_ratio': 0.8319383532596338, 'alpha': 2.3812118484174554e-05}. Best is trial 22 with value: 4257.790120029422.\u001b[0m\n",
      "\u001b[32m[I 2022-01-24 11:32:25,631]\u001b[0m Trial 26 finished with value: 4259.670971548026 and parameters: {'l1_ratio': 0.2064143725410303, 'alpha': 4.033052778026734e-05}. Best is trial 22 with value: 4257.790120029422.\u001b[0m\n",
      "\u001b[32m[I 2022-01-24 11:32:25,885]\u001b[0m Trial 27 finished with value: 4257.860934954328 and parameters: {'l1_ratio': 0.9189437788241746, 'alpha': 1.3630220625558279e-05}. Best is trial 22 with value: 4257.790120029422.\u001b[0m\n",
      "\u001b[32m[I 2022-01-24 11:32:26,106]\u001b[0m Trial 28 finished with value: 4260.245271744102 and parameters: {'l1_ratio': 0.6461664813618272, 'alpha': 0.00011807972919607195}. Best is trial 22 with value: 4257.790120029422.\u001b[0m\n",
      "\u001b[32m[I 2022-01-24 11:32:26,134]\u001b[0m Trial 29 finished with value: 5002.026188983249 and parameters: {'l1_ratio': 0.8057822966622622, 'alpha': 0.05874525011232626}. Best is trial 22 with value: 4257.790120029422.\u001b[0m\n",
      "\u001b[32m[I 2022-01-24 11:32:26,382]\u001b[0m Trial 30 finished with value: 4257.868595388479 and parameters: {'l1_ratio': 0.9968031448395224, 'alpha': 0.00037661505927112963}. Best is trial 22 with value: 4257.790120029422.\u001b[0m\n",
      "\u001b[32m[I 2022-01-24 11:32:26,628]\u001b[0m Trial 31 finished with value: 4257.816239443547 and parameters: {'l1_ratio': 0.9579434418719034, 'alpha': 1.0147127841650927e-05}. Best is trial 22 with value: 4257.790120029422.\u001b[0m\n",
      "\u001b[32m[I 2022-01-24 11:32:26,889]\u001b[0m Trial 32 finished with value: 4257.797899094812 and parameters: {'l1_ratio': 0.9916001595204263, 'alpha': 1.787235296579755e-05}. Best is trial 22 with value: 4257.790120029422.\u001b[0m\n",
      "\u001b[32m[I 2022-01-24 11:32:27,136]\u001b[0m Trial 33 finished with value: 4258.136197648497 and parameters: {'l1_ratio': 0.8660091724172917, 'alpha': 4.0549427340886596e-05}. Best is trial 22 with value: 4257.790120029422.\u001b[0m\n",
      "\u001b[32m[I 2022-01-24 11:32:27,368]\u001b[0m Trial 34 finished with value: 4258.443048456678 and parameters: {'l1_ratio': 0.7951292817394506, 'alpha': 5.142020643027757e-05}. Best is trial 22 with value: 4257.790120029422.\u001b[0m\n",
      "\u001b[32m[I 2022-01-24 11:32:27,619]\u001b[0m Trial 35 finished with value: 4257.888847862329 and parameters: {'l1_ratio': 0.9119366134731038, 'alpha': 1.7394017158623812e-05}. Best is trial 22 with value: 4257.790120029422.\u001b[0m\n",
      "\u001b[32m[I 2022-01-24 11:32:27,731]\u001b[0m Trial 36 finished with value: 4365.181859085892 and parameters: {'l1_ratio': 0.9428273026818016, 'alpha': 0.02294532685833974}. Best is trial 22 with value: 4257.790120029422.\u001b[0m\n",
      "\u001b[32m[I 2022-01-24 11:32:27,975]\u001b[0m Trial 37 finished with value: 4258.284899502952 and parameters: {'l1_ratio': 0.7406406590399629, 'alpha': 3.036100123877497e-05}. Best is trial 22 with value: 4257.790120029422.\u001b[0m\n",
      "\u001b[32m[I 2022-01-24 11:32:28,202]\u001b[0m Trial 38 finished with value: 4291.902079918765 and parameters: {'l1_ratio': 0.5622169806520104, 'alpha': 0.001025283928908815}. Best is trial 22 with value: 4257.790120029422.\u001b[0m\n",
      "\u001b[32m[I 2022-01-24 11:32:28,436]\u001b[0m Trial 39 finished with value: 4294.231761276422 and parameters: {'l1_ratio': 0.7912279695824664, 'alpha': 0.0022844461542797815}. Best is trial 22 with value: 4257.790120029422.\u001b[0m\n",
      "\u001b[32m[I 2022-01-24 11:32:28,655]\u001b[0m Trial 40 finished with value: 4258.493856440353 and parameters: {'l1_ratio': 0.8553861586504689, 'alpha': 7.883153786486614e-05}. Best is trial 22 with value: 4257.790120029422.\u001b[0m\n",
      "\u001b[32m[I 2022-01-24 11:32:28,901]\u001b[0m Trial 41 finished with value: 4257.808769238622 and parameters: {'l1_ratio': 0.9812325510401022, 'alpha': 1.6718904008545157e-05}. Best is trial 22 with value: 4257.790120029422.\u001b[0m\n",
      "\u001b[32m[I 2022-01-24 11:32:29,150]\u001b[0m Trial 42 finished with value: 4257.791941693042 and parameters: {'l1_ratio': 0.9961785795115773, 'alpha': 1.589467579901408e-05}. Best is trial 22 with value: 4257.790120029422.\u001b[0m\n",
      "\u001b[32m[I 2022-01-24 11:32:29,413]\u001b[0m Trial 43 finished with value: 4257.8507790567155 and parameters: {'l1_ratio': 0.9370460067075244, 'alpha': 1.5090579557391947e-05}. Best is trial 22 with value: 4257.790120029422.\u001b[0m\n",
      "\u001b[32m[I 2022-01-24 11:32:29,680]\u001b[0m Trial 44 finished with value: 4257.8667901078625 and parameters: {'l1_ratio': 0.8926997560012827, 'alpha': 1.113053346340863e-05}. Best is trial 22 with value: 4257.790120029422.\u001b[0m\n",
      "\u001b[32m[I 2022-01-24 11:32:29,958]\u001b[0m Trial 45 finished with value: 4257.796715112347 and parameters: {'l1_ratio': 0.9958926103244383, 'alpha': 3.2052934752982365e-05}. Best is trial 22 with value: 4257.790120029422.\u001b[0m\n",
      "\u001b[32m[I 2022-01-24 11:32:30,153]\u001b[0m Trial 46 finished with value: 4258.908605628734 and parameters: {'l1_ratio': 0.41598576798922354, 'alpha': 3.189477985608195e-05}. Best is trial 22 with value: 4257.790120029422.\u001b[0m\n",
      "\u001b[32m[I 2022-01-24 11:32:30,358]\u001b[0m Trial 47 finished with value: 4258.825705287796 and parameters: {'l1_ratio': 0.7059703279602543, 'alpha': 5.83898326853395e-05}. Best is trial 22 with value: 4257.790120029422.\u001b[0m\n",
      "\u001b[32m[I 2022-01-24 11:32:30,613]\u001b[0m Trial 48 finished with value: 4257.852022631601 and parameters: {'l1_ratio': 0.9476805676955931, 'alpha': 1.8516490460106285e-05}. Best is trial 22 with value: 4257.790120029422.\u001b[0m\n",
      "\u001b[32m[I 2022-01-24 11:32:30,881]\u001b[0m Trial 49 finished with value: 4258.178853438965 and parameters: {'l1_ratio': 0.8265510376762752, 'alpha': 3.53237197257049e-05}. Best is trial 22 with value: 4257.790120029422.\u001b[0m\n",
      "\u001b[32m[I 2022-01-24 11:32:31,127]\u001b[0m Trial 50 finished with value: 4257.788232932887 and parameters: {'l1_ratio': 0.9999931656354047, 'alpha': 0.00010746449757767539}. Best is trial 50 with value: 4257.788232932887.\u001b[0m\n",
      "\u001b[32m[I 2022-01-24 11:32:31,154]\u001b[0m Trial 51 finished with value: 4942.052686702646 and parameters: {'l1_ratio': 0.8954021591902644, 'alpha': 0.0957415269993431}. Best is trial 50 with value: 4257.788232932887.\u001b[0m\n",
      "\u001b[32m[I 2022-01-24 11:32:31,403]\u001b[0m Trial 52 finished with value: 4258.086390938475 and parameters: {'l1_ratio': 0.9633224224960293, 'alpha': 0.00012614194767801101}. Best is trial 50 with value: 4257.788232932887.\u001b[0m\n",
      "\u001b[32m[I 2022-01-24 11:32:31,649]\u001b[0m Trial 53 finished with value: 4257.803103763038 and parameters: {'l1_ratio': 0.9894520562662598, 'alpha': 2.1636483526729284e-05}. Best is trial 50 with value: 4257.788232932887.\u001b[0m\n",
      "\u001b[32m[I 2022-01-24 11:32:31,910]\u001b[0m Trial 54 finished with value: 4257.893859046064 and parameters: {'l1_ratio': 0.8876175951853592, 'alpha': 1.4316338072691295e-05}. Best is trial 50 with value: 4257.788232932887.\u001b[0m\n",
      "\u001b[32m[I 2022-01-24 11:32:32,158]\u001b[0m Trial 55 finished with value: 4258.039406415543 and parameters: {'l1_ratio': 0.93162740514287, 'alpha': 5.675834006740307e-05}. Best is trial 50 with value: 4257.788232932887.\u001b[0m\n",
      "\u001b[32m[I 2022-01-24 11:32:32,378]\u001b[0m Trial 56 finished with value: 4273.364275268816 and parameters: {'l1_ratio': 0.31403205603116446, 'alpha': 0.00032302102142460715}. Best is trial 50 with value: 4257.788232932887.\u001b[0m\n",
      "\u001b[32m[I 2022-01-24 11:32:32,560]\u001b[0m Trial 57 finished with value: 4259.248677023508 and parameters: {'l1_ratio': 0.10411163451181477, 'alpha': 2.7485863341849595e-05}. Best is trial 50 with value: 4257.788232932887.\u001b[0m\n",
      "\u001b[32m[I 2022-01-24 11:32:32,805]\u001b[0m Trial 58 finished with value: 4257.828667505394 and parameters: {'l1_ratio': 0.9527800276898726, 'alpha': 1.3013437324942853e-05}. Best is trial 50 with value: 4257.788232932887.\u001b[0m\n",
      "\u001b[32m[I 2022-01-24 11:32:33,016]\u001b[0m Trial 59 finished with value: 4258.5656012047775 and parameters: {'l1_ratio': 0.8481827765070131, 'alpha': 8.321078792282335e-05}. Best is trial 50 with value: 4257.788232932887.\u001b[0m\n",
      "\u001b[32m[I 2022-01-24 11:32:33,199]\u001b[0m Trial 60 finished with value: 4259.712633583928 and parameters: {'l1_ratio': 0.9962294361377414, 'alpha': 0.008664940292080201}. Best is trial 50 with value: 4257.788232932887.\u001b[0m\n",
      "\u001b[32m[I 2022-01-24 11:32:33,462]\u001b[0m Trial 61 finished with value: 4257.84851487246 and parameters: {'l1_ratio': 0.9116115864859076, 'alpha': 1.0361042115889628e-05}. Best is trial 50 with value: 4257.788232932887.\u001b[0m\n",
      "\u001b[32m[I 2022-01-24 11:32:33,710]\u001b[0m Trial 62 finished with value: 4257.80920244378 and parameters: {'l1_ratio': 0.968385678716863, 'alpha': 1.0141453596180243e-05}. Best is trial 50 with value: 4257.788232932887.\u001b[0m\n",
      "\u001b[32m[I 2022-01-24 11:32:33,970]\u001b[0m Trial 63 finished with value: 4257.793207285827 and parameters: {'l1_ratio': 0.9965949706372665, 'alpha': 2.3313909867466094e-05}. Best is trial 50 with value: 4257.788232932887.\u001b[0m\n",
      "\u001b[32m[I 2022-01-24 11:32:34,233]\u001b[0m Trial 64 finished with value: 4257.793386048966 and parameters: {'l1_ratio': 0.9967750389721641, 'alpha': 2.5416770253060317e-05}. Best is trial 50 with value: 4257.788232932887.\u001b[0m\n",
      "\u001b[32m[I 2022-01-24 11:32:34,497]\u001b[0m Trial 65 finished with value: 4257.898488292997 and parameters: {'l1_ratio': 0.9233531998617899, 'alpha': 2.1915031268205242e-05}. Best is trial 50 with value: 4257.788232932887.\u001b[0m\n",
      "\u001b[32m[I 2022-01-24 11:32:34,759]\u001b[0m Trial 66 finished with value: 4258.186564494319 and parameters: {'l1_ratio': 0.8805749322831989, 'alpha': 5.2349991687827285e-05}. Best is trial 50 with value: 4257.788232932887.\u001b[0m\n",
      "\u001b[32m[I 2022-01-24 11:32:35,037]\u001b[0m Trial 67 finished with value: 4257.818999625379 and parameters: {'l1_ratio': 0.9665766380638144, 'alpha': 1.4009560723711936e-05}. Best is trial 50 with value: 4257.788232932887.\u001b[0m\n",
      "\u001b[32m[I 2022-01-24 11:32:35,284]\u001b[0m Trial 68 finished with value: 4257.857853693789 and parameters: {'l1_ratio': 0.9514753275207921, 'alpha': 2.179164624625448e-05}. Best is trial 50 with value: 4257.788232932887.\u001b[0m\n",
      "\u001b[32m[I 2022-01-24 11:32:35,532]\u001b[0m Trial 69 finished with value: 4258.234359604097 and parameters: {'l1_ratio': 0.831659030596942, 'alpha': 4.180265925883701e-05}. Best is trial 50 with value: 4257.788232932887.\u001b[0m\n",
      "\u001b[32m[I 2022-01-24 11:32:35,785]\u001b[0m Trial 70 finished with value: 4257.902381743571 and parameters: {'l1_ratio': 0.9061486022402956, 'alpha': 1.8537982893404e-05}. Best is trial 50 with value: 4257.788232932887.\u001b[0m\n",
      "\u001b[32m[I 2022-01-24 11:32:36,051]\u001b[0m Trial 71 finished with value: 4257.807470473526 and parameters: {'l1_ratio': 0.9899131017539395, 'alpha': 2.910794613271444e-05}. Best is trial 50 with value: 4257.788232932887.\u001b[0m\n",
      "\u001b[32m[I 2022-01-24 11:32:36,312]\u001b[0m Trial 72 finished with value: 4257.797749463225 and parameters: {'l1_ratio': 0.994571330196993, 'alpha': 2.7158019488186672e-05}. Best is trial 50 with value: 4257.788232932887.\u001b[0m\n",
      "\u001b[32m[I 2022-01-24 11:32:36,574]\u001b[0m Trial 73 finished with value: 4257.843007043375 and parameters: {'l1_ratio': 0.9380418276819543, 'alpha': 1.3427265227508913e-05}. Best is trial 50 with value: 4257.788232932887.\u001b[0m\n",
      "\u001b[32m[I 2022-01-24 11:32:36,841]\u001b[0m Trial 74 finished with value: 4257.877719079552 and parameters: {'l1_ratio': 0.9689670099435719, 'alpha': 4.381937174277091e-05}. Best is trial 50 with value: 4257.788232932887.\u001b[0m\n",
      "\u001b[32m[I 2022-01-24 11:32:37,095]\u001b[0m Trial 75 finished with value: 4257.797274675428 and parameters: {'l1_ratio': 0.9987043358314271, 'alpha': 0.0001053944920557806}. Best is trial 50 with value: 4257.788232932887.\u001b[0m\n",
      "\u001b[32m[I 2022-01-24 11:32:37,344]\u001b[0m Trial 76 finished with value: 4258.346039487444 and parameters: {'l1_ratio': 0.8722792283825057, 'alpha': 6.963521560700803e-05}. Best is trial 50 with value: 4257.788232932887.\u001b[0m\n",
      "\u001b[32m[I 2022-01-24 11:32:37,593]\u001b[0m Trial 77 finished with value: 4257.885992073609 and parameters: {'l1_ratio': 0.9156628132478487, 'alpha': 1.7642702103024518e-05}. Best is trial 50 with value: 4257.788232932887.\u001b[0m\n",
      "\u001b[32m[I 2022-01-24 11:32:37,791]\u001b[0m Trial 78 finished with value: 4258.747903824998 and parameters: {'l1_ratio': 0.5156724465599213, 'alpha': 3.26330908251983e-05}. Best is trial 50 with value: 4257.788232932887.\u001b[0m\n",
      "\u001b[32m[I 2022-01-24 11:32:38,043]\u001b[0m Trial 79 finished with value: 4258.105831236296 and parameters: {'l1_ratio': 0.9690549793378795, 'alpha': 0.00015954227596398017}. Best is trial 50 with value: 4257.788232932887.\u001b[0m\n",
      "\u001b[32m[I 2022-01-24 11:32:38,262]\u001b[0m Trial 80 finished with value: 4269.7593595499175 and parameters: {'l1_ratio': 0.9333315305743194, 'alpha': 0.0026348172625114056}. Best is trial 50 with value: 4257.788232932887.\u001b[0m\n",
      "\u001b[32m[I 2022-01-24 11:32:38,511]\u001b[0m Trial 81 finished with value: 4257.822538239327 and parameters: {'l1_ratio': 0.9480827119106483, 'alpha': 1.0052732446205946e-05}. Best is trial 50 with value: 4257.788232932887.\u001b[0m\n",
      "\u001b[32m[I 2022-01-24 11:32:38,759]\u001b[0m Trial 82 finished with value: 4257.8099231450515 and parameters: {'l1_ratio': 0.9736019973794403, 'alpha': 1.2552525484426417e-05}. Best is trial 50 with value: 4257.788232932887.\u001b[0m\n",
      "\u001b[32m[I 2022-01-24 11:32:39,006]\u001b[0m Trial 83 finished with value: 4257.909574652465 and parameters: {'l1_ratio': 0.9112311474271142, 'alpha': 2.084696418514972e-05}. Best is trial 50 with value: 4257.788232932887.\u001b[0m\n",
      "\u001b[32m[I 2022-01-24 11:32:39,253]\u001b[0m Trial 84 finished with value: 4258.221889067868 and parameters: {'l1_ratio': 0.5867780990608858, 'alpha': 1.6535945798912137e-05}. Best is trial 50 with value: 4257.788232932887.\u001b[0m\n",
      "\u001b[32m[I 2022-01-24 11:32:39,493]\u001b[0m Trial 85 finished with value: 4257.810718496663 and parameters: {'l1_ratio': 0.9736942281887664, 'alpha': 1.305139655013078e-05}. Best is trial 50 with value: 4257.788232932887.\u001b[0m\n",
      "\u001b[32m[I 2022-01-24 11:32:39,736]\u001b[0m Trial 86 finished with value: 4257.78795571025 and parameters: {'l1_ratio': 0.9999829452680983, 'alpha': 2.625416066396533e-05}. Best is trial 86 with value: 4257.78795571025.\u001b[0m\n",
      "\u001b[32m[I 2022-01-24 11:32:39,986]\u001b[0m Trial 87 finished with value: 4258.046406648332 and parameters: {'l1_ratio': 0.8886631736941066, 'alpha': 3.586376285162447e-05}. Best is trial 86 with value: 4257.78795571025.\u001b[0m\n",
      "\u001b[32m[I 2022-01-24 11:32:40,236]\u001b[0m Trial 88 finished with value: 4257.793999759865 and parameters: {'l1_ratio': 0.996445288661835, 'alpha': 2.5648248527344872e-05}. Best is trial 86 with value: 4257.78795571025.\u001b[0m\n",
      "\u001b[32m[I 2022-01-24 11:32:40,426]\u001b[0m Trial 89 finished with value: 4259.98047208282 and parameters: {'l1_ratio': 0.8573258028935004, 'alpha': 0.0002615387480802101}. Best is trial 86 with value: 4257.78795571025.\u001b[0m\n",
      "\u001b[32m[I 2022-01-24 11:32:40,620]\u001b[0m Trial 90 finished with value: 4260.659396414037 and parameters: {'l1_ratio': 0.9409858559518002, 'alpha': 0.0008235446414474668}. Best is trial 86 with value: 4257.78795571025.\u001b[0m\n",
      "\u001b[32m[I 2022-01-24 11:32:40,865]\u001b[0m Trial 91 finished with value: 4257.79541790848 and parameters: {'l1_ratio': 0.9956930390556596, 'alpha': 2.610871098106934e-05}. Best is trial 86 with value: 4257.78795571025.\u001b[0m\n",
      "\u001b[32m[I 2022-01-24 11:32:41,110]\u001b[0m Trial 92 finished with value: 4257.789154087906 and parameters: {'l1_ratio': 0.9992664665369347, 'alpha': 2.5181124762691164e-05}. Best is trial 86 with value: 4257.78795571025.\u001b[0m\n",
      "\u001b[32m[I 2022-01-24 11:32:41,360]\u001b[0m Trial 93 finished with value: 4257.924635939264 and parameters: {'l1_ratio': 0.9554107262288368, 'alpha': 4.669264064623712e-05}. Best is trial 86 with value: 4257.78795571025.\u001b[0m\n",
      "\u001b[32m[I 2022-01-24 11:32:41,607]\u001b[0m Trial 94 finished with value: 4258.113324761235 and parameters: {'l1_ratio': 0.9256548702140925, 'alpha': 6.809325465885019e-05}. Best is trial 86 with value: 4257.78795571025.\u001b[0m\n",
      "\u001b[32m[I 2022-01-24 11:32:41,861]\u001b[0m Trial 95 finished with value: 4257.817970033624 and parameters: {'l1_ratio': 0.9718728500667436, 'alpha': 1.60910797804583e-05}. Best is trial 86 with value: 4257.78795571025.\u001b[0m\n",
      "\u001b[32m[I 2022-01-24 11:32:42,111]\u001b[0m Trial 96 finished with value: 4257.789169588076 and parameters: {'l1_ratio': 0.9991832274425884, 'alpha': 2.302533850411416e-05}. Best is trial 86 with value: 4257.78795571025.\u001b[0m\n",
      "\u001b[32m[I 2022-01-24 11:32:42,360]\u001b[0m Trial 97 finished with value: 4258.130049272564 and parameters: {'l1_ratio': 0.7711702632454708, 'alpha': 2.331285571147379e-05}. Best is trial 86 with value: 4257.78795571025.\u001b[0m\n",
      "\u001b[32m[I 2022-01-24 11:32:42,607]\u001b[0m Trial 98 finished with value: 4257.913246811253 and parameters: {'l1_ratio': 0.9453193599957568, 'alpha': 3.486665724900699e-05}. Best is trial 86 with value: 4257.78795571025.\u001b[0m\n",
      "\u001b[32m[I 2022-01-24 11:32:42,856]\u001b[0m Trial 99 finished with value: 4257.823866438604 and parameters: {'l1_ratio': 0.9727496949257055, 'alpha': 1.9872041022497457e-05}. Best is trial 86 with value: 4257.78795571025.\u001b[0m\n"
     ]
    }
   ],
   "source": [
    "import warnings \n",
    "warnings.filterwarnings(\"ignore\")\n",
    "study = optuna.create_study(direction=\"minimize\")\n",
    "study.optimize(objective, n_trials=100)"
   ]
  },
  {
   "cell_type": "code",
   "execution_count": 136,
   "metadata": {},
   "outputs": [
    {
     "data": {
      "text/plain": [
       "4080.8689368713585"
      ]
     },
     "execution_count": 136,
     "metadata": {},
     "output_type": "execute_result"
    }
   ],
   "source": [
    "from sklearn.svm import SVR\n",
    "\n",
    "svr = SVR(kernel=\"rbf\", C=1e3, gamma=0.1)\n",
    "svr.fit(X_train, y_train)\n",
    "y_pred_svr = svr.predict(X_test)\n",
    "np.sqrt(mean_squared_error(y_test, y_pred_svr))"
   ]
  },
  {
   "cell_type": "code",
   "execution_count": 137,
   "metadata": {},
   "outputs": [],
   "source": [
    "def objective_svr(trial):\n",
    "    C = trial.suggest_loguniform(\"C\", 1e-5, 1e5)\n",
    "    gamma = trial.suggest_loguniform(\"gamma\", 1e-5, 1e5)\n",
    "    svr = SVR(kernel=\"rbf\", C=C, gamma=gamma)\n",
    "    svr.fit(X_train, y_train)\n",
    "    y_pred = svr.predict(X_test)\n",
    "    return np.sqrt(mean_squared_error(y_test, y_pred))"
   ]
  },
  {
   "cell_type": "code",
   "execution_count": 138,
   "metadata": {},
   "outputs": [
    {
     "name": "stderr",
     "output_type": "stream",
     "text": [
      "\u001b[32m[I 2022-01-24 11:33:54,421]\u001b[0m A new study created in memory with name: no-name-36627ff2-9588-47e1-8312-f9c0f8c07ee8\u001b[0m\n",
      "\u001b[32m[I 2022-01-24 11:33:59,664]\u001b[0m Trial 0 finished with value: 11707.44375105808 and parameters: {'C': 0.009746930281799725, 'gamma': 2.592109693404751e-05}. Best is trial 0 with value: 11707.44375105808.\u001b[0m\n",
      "\u001b[32m[I 2022-01-24 11:34:05,497]\u001b[0m Trial 1 finished with value: 11707.450232440126 and parameters: {'C': 0.000437779915872557, 'gamma': 16.063460477487325}. Best is trial 0 with value: 11707.44375105808.\u001b[0m\n",
      "\u001b[32m[I 2022-01-24 11:34:12,951]\u001b[0m Trial 2 finished with value: 10745.292506679963 and parameters: {'C': 928.0740752034972, 'gamma': 390.9924205236257}. Best is trial 2 with value: 10745.292506679963.\u001b[0m\n",
      "\u001b[32m[I 2022-01-24 11:34:20,351]\u001b[0m Trial 3 finished with value: 11477.47426324514 and parameters: {'C': 1134.8278423826737, 'gamma': 49900.90629306214}. Best is trial 2 with value: 10745.292506679963.\u001b[0m\n",
      "\u001b[32m[I 2022-01-24 11:34:52,923]\u001b[0m Trial 4 finished with value: 4329.840441773333 and parameters: {'C': 53750.587981244214, 'gamma': 3.6403801151949238}. Best is trial 4 with value: 4329.840441773333.\u001b[0m\n",
      "\u001b[32m[I 2022-01-24 11:34:58,112]\u001b[0m Trial 5 finished with value: 8406.656602110568 and parameters: {'C': 20.845087339356024, 'gamma': 0.012043983395679613}. Best is trial 4 with value: 4329.840441773333.\u001b[0m\n",
      "\u001b[32m[I 2022-01-24 11:35:05,533]\u001b[0m Trial 6 finished with value: 11706.846180709734 and parameters: {'C': 1.5563450666233518, 'gamma': 3698.292200182172}. Best is trial 4 with value: 4329.840441773333.\u001b[0m\n",
      "\u001b[32m[I 2022-01-24 11:35:12,584]\u001b[0m Trial 7 finished with value: 11707.187505537662 and parameters: {'C': 0.07267026380757667, 'gamma': 86.88658524840342}. Best is trial 4 with value: 4329.840441773333.\u001b[0m\n",
      "\u001b[32m[I 2022-01-24 11:35:17,866]\u001b[0m Trial 8 finished with value: 11624.478013175652 and parameters: {'C': 14.599430335124254, 'gamma': 0.00013551933300094267}. Best is trial 4 with value: 4329.840441773333.\u001b[0m\n",
      "\u001b[32m[I 2022-01-24 11:35:25,205]\u001b[0m Trial 9 finished with value: 11707.45413835834 and parameters: {'C': 0.0005428168913117012, 'gamma': 28879.552498843153}. Best is trial 4 with value: 4329.840441773333.\u001b[0m\n",
      "\u001b[32m[I 2022-01-24 11:35:58,455]\u001b[0m Trial 10 finished with value: 2995.0868808125283 and parameters: {'C': 97997.66338612906, 'gamma': 0.29139561399893177}. Best is trial 10 with value: 2995.0868808125283.\u001b[0m\n",
      "\u001b[32m[I 2022-01-24 11:36:20,337]\u001b[0m Trial 11 finished with value: 2996.9395573104157 and parameters: {'C': 59206.88659561419, 'gamma': 0.30272430694353025}. Best is trial 10 with value: 2995.0868808125283.\u001b[0m\n",
      "\u001b[32m[I 2022-01-24 11:36:29,156]\u001b[0m Trial 12 finished with value: 3023.892992283953 and parameters: {'C': 66106.43871796812, 'gamma': 0.02950710209224608}. Best is trial 10 with value: 2995.0868808125283.\u001b[0m\n",
      "\u001b[32m[I 2022-01-24 11:36:34,202]\u001b[0m Trial 13 finished with value: 3606.238018822537 and parameters: {'C': 2065.0621879536207, 'gamma': 0.09061761930986827}. Best is trial 10 with value: 2995.0868808125283.\u001b[0m\n",
      "\u001b[32m[I 2022-01-24 11:36:39,444]\u001b[0m Trial 14 finished with value: 4253.07583621696 and parameters: {'C': 87431.0568283932, 'gamma': 0.0010214885651233295}. Best is trial 10 with value: 2995.0868808125283.\u001b[0m\n",
      "\u001b[32m[I 2022-01-24 11:36:44,547]\u001b[0m Trial 15 finished with value: 11707.453256809848 and parameters: {'C': 1.3336278066131909e-05, 'gamma': 0.6198738924725069}. Best is trial 10 with value: 2995.0868808125283.\u001b[0m\n",
      "\u001b[32m[I 2022-01-24 11:36:50,651]\u001b[0m Trial 16 finished with value: 3602.3436233830266 and parameters: {'C': 2812.4784455892573, 'gamma': 0.339380824047922}. Best is trial 10 with value: 2995.0868808125283.\u001b[0m\n",
      "\u001b[32m[I 2022-01-24 11:36:55,736]\u001b[0m Trial 17 finished with value: 7991.596563504828 and parameters: {'C': 161.8356471170383, 'gamma': 0.0019851975811739026}. Best is trial 10 with value: 2995.0868808125283.\u001b[0m\n",
      "\u001b[32m[I 2022-01-24 11:37:13,381]\u001b[0m Trial 18 finished with value: 4653.453644773929 and parameters: {'C': 16933.885380296568, 'gamma': 5.35838177034443}. Best is trial 10 with value: 2995.0868808125283.\u001b[0m\n",
      "\u001b[32m[I 2022-01-24 11:37:18,394]\u001b[0m Trial 19 finished with value: 8271.952423865854 and parameters: {'C': 61.29297627184753, 'gamma': 0.0038322353423486176}. Best is trial 10 with value: 2995.0868808125283.\u001b[0m\n",
      "\u001b[32m[I 2022-01-24 11:37:25,287]\u001b[0m Trial 20 finished with value: 11701.976215003217 and parameters: {'C': 1.4646706886679735, 'gamma': 84.32398803806862}. Best is trial 10 with value: 2995.0868808125283.\u001b[0m\n",
      "\u001b[32m[I 2022-01-24 11:37:30,887]\u001b[0m Trial 21 finished with value: 3223.1686499484103 and parameters: {'C': 10710.131840793125, 'gamma': 0.050828664984167084}. Best is trial 10 with value: 2995.0868808125283.\u001b[0m\n",
      "\u001b[32m[I 2022-01-24 11:37:43,215]\u001b[0m Trial 22 finished with value: 2940.5612251140255 and parameters: {'C': 98363.84274697678, 'gamma': 0.04415403538916809}. Best is trial 22 with value: 2940.5612251140255.\u001b[0m\n",
      "\u001b[32m[I 2022-01-24 11:37:50,936]\u001b[0m Trial 23 finished with value: 3008.740638535229 and parameters: {'C': 11164.850018526182, 'gamma': 0.2811962926422611}. Best is trial 22 with value: 2940.5612251140255.\u001b[0m\n",
      "\u001b[32m[I 2022-01-24 11:37:55,905]\u001b[0m Trial 24 finished with value: 9415.61123352454 and parameters: {'C': 228.53640655258957, 'gamma': 1.8246944468054005}. Best is trial 22 with value: 2940.5612251140255.\u001b[0m\n",
      "\u001b[32m[I 2022-01-24 11:38:02,275]\u001b[0m Trial 25 finished with value: 3172.903936029118 and parameters: {'C': 99034.5246808486, 'gamma': 0.009701639327102766}. Best is trial 22 with value: 2940.5612251140255.\u001b[0m\n",
      "\u001b[32m[I 2022-01-24 11:38:07,212]\u001b[0m Trial 26 finished with value: 6599.711212907766 and parameters: {'C': 4232.743956817268, 'gamma': 0.0005928136332176238}. Best is trial 22 with value: 2940.5612251140255.\u001b[0m\n",
      "\u001b[32m[I 2022-01-24 11:38:14,277]\u001b[0m Trial 27 finished with value: 3003.4112336547146 and parameters: {'C': 15217.056212633543, 'gamma': 0.09972576973397178}. Best is trial 22 with value: 2940.5612251140255.\u001b[0m\n",
      "\u001b[32m[I 2022-01-24 11:38:19,968]\u001b[0m Trial 28 finished with value: 9919.090480434872 and parameters: {'C': 409.2054426383814, 'gamma': 18.927554592694953}. Best is trial 22 with value: 2940.5612251140255.\u001b[0m\n",
      "\u001b[32m[I 2022-01-24 11:38:25,017]\u001b[0m Trial 29 finished with value: 11707.42164881723 and parameters: {'C': 0.008970584791372176, 'gamma': 8.7815734476699e-05}. Best is trial 22 with value: 2940.5612251140255.\u001b[0m\n",
      "\u001b[32m[I 2022-01-24 11:38:30,084]\u001b[0m Trial 30 finished with value: 11699.163159613208 and parameters: {'C': 7.033572162837703, 'gamma': 2.8438872819564865e-05}. Best is trial 22 with value: 2940.5612251140255.\u001b[0m\n",
      "\u001b[32m[I 2022-01-24 11:38:38,310]\u001b[0m Trial 31 finished with value: 2974.3336010729818 and parameters: {'C': 15547.879903349547, 'gamma': 0.2015382724339921}. Best is trial 22 with value: 2940.5612251140255.\u001b[0m\n",
      "\u001b[32m[I 2022-01-24 11:38:50,891]\u001b[0m Trial 32 finished with value: 3080.088221419617 and parameters: {'C': 26100.78421856043, 'gamma': 0.4562094988537523}. Best is trial 22 with value: 2940.5612251140255.\u001b[0m\n",
      "\u001b[32m[I 2022-01-24 11:38:55,843]\u001b[0m Trial 33 finished with value: 3949.554018066335 and parameters: {'C': 5635.971541729528, 'gamma': 0.01471307940502646}. Best is trial 22 with value: 2940.5612251140255.\u001b[0m\n",
      "\u001b[32m[I 2022-01-24 11:39:01,659]\u001b[0m Trial 34 finished with value: 8967.1411656122 and parameters: {'C': 865.4633425147056, 'gamma': 15.502823358012442}. Best is trial 22 with value: 2940.5612251140255.\u001b[0m\n",
      "\u001b[32m[I 2022-01-24 11:39:15,139]\u001b[0m Trial 35 finished with value: 2933.0880466207914 and parameters: {'C': 46993.38820925465, 'gamma': 0.13908227857463226}. Best is trial 35 with value: 2933.0880466207914.\u001b[0m\n",
      "\u001b[32m[I 2022-01-24 11:39:20,236]\u001b[0m Trial 36 finished with value: 6917.119491000416 and parameters: {'C': 1130.574155397413, 'gamma': 1.7080196047774785}. Best is trial 35 with value: 2933.0880466207914.\u001b[0m\n",
      "\u001b[32m[I 2022-01-24 11:39:28,722]\u001b[0m Trial 37 finished with value: 2957.881536855227 and parameters: {'C': 24412.3029151705, 'gamma': 0.11627595437797683}. Best is trial 35 with value: 2933.0880466207914.\u001b[0m\n",
      "\u001b[32m[I 2022-01-24 11:39:33,504]\u001b[0m Trial 38 finished with value: 6607.881900553505 and parameters: {'C': 51.861047789649184, 'gamma': 0.07799171395134216}. Best is trial 35 with value: 2933.0880466207914.\u001b[0m\n",
      "\u001b[32m[I 2022-01-24 11:39:38,409]\u001b[0m Trial 39 finished with value: 4651.094078820432 and parameters: {'C': 4718.831918624948, 'gamma': 0.005396658176175406}. Best is trial 35 with value: 2933.0880466207914.\u001b[0m\n",
      "\u001b[32m[I 2022-01-24 11:39:57,869]\u001b[0m Trial 40 finished with value: 4508.4641295573865 and parameters: {'C': 24416.855601403277, 'gamma': 4.504296898681725}. Best is trial 35 with value: 2933.0880466207914.\u001b[0m\n",
      "\u001b[32m[I 2022-01-24 11:40:07,823]\u001b[0m Trial 41 finished with value: 2974.845374584695 and parameters: {'C': 96299.33596131185, 'gamma': 0.03414037100047355}. Best is trial 35 with value: 2933.0880466207914.\u001b[0m\n",
      "\u001b[32m[I 2022-01-24 11:40:12,904]\u001b[0m Trial 42 finished with value: 11640.448190214189 and parameters: {'C': 0.15310306426260542, 'gamma': 0.019313747937622826}. Best is trial 35 with value: 2933.0880466207914.\u001b[0m\n",
      "\u001b[32m[I 2022-01-24 11:40:17,992]\u001b[0m Trial 43 finished with value: 5636.757397356069 and parameters: {'C': 28401.92085353739, 'gamma': 0.0003644261561606437}. Best is trial 35 with value: 2933.0880466207914.\u001b[0m\n",
      "\u001b[32m[I 2022-01-24 11:40:23,547]\u001b[0m Trial 44 finished with value: 3196.579705447308 and parameters: {'C': 6769.915395553616, 'gamma': 0.10522854856343153}. Best is trial 35 with value: 2933.0880466207914.\u001b[0m\n",
      "\u001b[32m[I 2022-01-24 11:40:36,097]\u001b[0m Trial 45 finished with value: 3466.9495154062042 and parameters: {'C': 30744.341631249863, 'gamma': 0.9570653231800239}. Best is trial 35 with value: 2933.0880466207914.\u001b[0m\n",
      "\u001b[32m[I 2022-01-24 11:40:41,033]\u001b[0m Trial 46 finished with value: 4579.402011242094 and parameters: {'C': 689.3959187388313, 'gamma': 0.035407962344414276}. Best is trial 35 with value: 2933.0880466207914.\u001b[0m\n",
      "\u001b[32m[I 2022-01-24 11:40:45,922]\u001b[0m Trial 47 finished with value: 6115.117511003456 and parameters: {'C': 1532.4141432420734, 'gamma': 0.0022498435779924274}. Best is trial 35 with value: 2933.0880466207914.\u001b[0m\n",
      "\u001b[32m[I 2022-01-24 11:40:51,328]\u001b[0m Trial 48 finished with value: 3366.1490577995223 and parameters: {'C': 43746.528975206864, 'gamma': 0.008362535170662747}. Best is trial 35 with value: 2933.0880466207914.\u001b[0m\n",
      "\u001b[32m[I 2022-01-24 11:40:56,340]\u001b[0m Trial 49 finished with value: 3541.8606188842696 and parameters: {'C': 2172.5010015891276, 'gamma': 0.11621109629716293}. Best is trial 35 with value: 2933.0880466207914.\u001b[0m\n",
      "\u001b[32m[I 2022-01-24 11:41:04,671]\u001b[0m Trial 50 finished with value: 3030.335099286626 and parameters: {'C': 87776.51293141692, 'gamma': 0.024485834996945576}. Best is trial 35 with value: 2933.0880466207914.\u001b[0m\n",
      "\u001b[32m[I 2022-01-24 11:41:31,010]\u001b[0m Trial 51 finished with value: 2917.568583434094 and parameters: {'C': 88452.46389611792, 'gamma': 0.15703580812053708}. Best is trial 51 with value: 2917.568583434094.\u001b[0m\n",
      "\u001b[32m[I 2022-01-24 11:41:38,445]\u001b[0m Trial 52 finished with value: 3008.5943089888237 and parameters: {'C': 10725.09555111584, 'gamma': 0.2597918683487706}. Best is trial 51 with value: 2917.568583434094.\u001b[0m\n",
      "\u001b[32m[I 2022-01-24 11:41:54,559]\u001b[0m Trial 53 finished with value: 3442.641626604589 and parameters: {'C': 37976.22100253749, 'gamma': 0.9267623876284896}. Best is trial 51 with value: 2917.568583434094.\u001b[0m\n",
      "\u001b[32m[I 2022-01-24 11:42:06,191]\u001b[0m Trial 54 finished with value: 2970.487675114461 and parameters: {'C': 95531.55389766573, 'gamma': 0.03518086145040157}. Best is trial 51 with value: 2917.568583434094.\u001b[0m\n",
      "\u001b[32m[I 2022-01-24 11:42:13,732]\u001b[0m Trial 55 finished with value: 2989.3515157527004 and parameters: {'C': 11939.592190361349, 'gamma': 0.1993129841128052}. Best is trial 51 with value: 2917.568583434094.\u001b[0m\n",
      "\u001b[32m[I 2022-01-24 11:42:48,488]\u001b[0m Trial 56 finished with value: 4743.12949438628 and parameters: {'C': 41214.219136149004, 'gamma': 8.20801150479803}. Best is trial 51 with value: 2917.568583434094.\u001b[0m\n",
      "\u001b[32m[I 2022-01-24 11:42:54,320]\u001b[0m Trial 57 finished with value: 5009.265115261447 and parameters: {'C': 3310.8994413407736, 'gamma': 1.6148486128988062}. Best is trial 51 with value: 2917.568583434094.\u001b[0m\n",
      "\u001b[32m[I 2022-01-24 11:42:59,551]\u001b[0m Trial 58 finished with value: 11707.45203043616 and parameters: {'C': 1.3924513714127433e-05, 'gamma': 0.004609956496333446}. Best is trial 51 with value: 2917.568583434094.\u001b[0m\n",
      "\u001b[32m[I 2022-01-24 11:43:09,981]\u001b[0m Trial 59 finished with value: 9598.403817195867 and parameters: {'C': 7768.732074469401, 'gamma': 1634.3012501203855}. Best is trial 51 with value: 2917.568583434094.\u001b[0m\n",
      "\u001b[32m[I 2022-01-24 11:43:16,445]\u001b[0m Trial 60 finished with value: 3056.752542282348 and parameters: {'C': 17563.406061715566, 'gamma': 0.06008710622760244}. Best is trial 51 with value: 2917.568583434094.\u001b[0m\n",
      "\u001b[32m[I 2022-01-24 11:43:26,648]\u001b[0m Trial 61 finished with value: 2973.9818393436617 and parameters: {'C': 91369.0661035336, 'gamma': 0.035137750324399315}. Best is trial 51 with value: 2917.568583434094.\u001b[0m\n",
      "\u001b[32m[I 2022-01-24 11:43:45,820]\u001b[0m Trial 62 finished with value: 2926.4152801350724 and parameters: {'C': 52927.30415784601, 'gamma': 0.19008277028169063}. Best is trial 51 with value: 2917.568583434094.\u001b[0m\n",
      "\u001b[32m[I 2022-01-24 11:43:52,192]\u001b[0m Trial 63 finished with value: 3164.835873950776 and parameters: {'C': 55486.19611672246, 'gamma': 0.014459148915589361}. Best is trial 51 with value: 2917.568583434094.\u001b[0m\n",
      "\u001b[32m[I 2022-01-24 11:44:11,583]\u001b[0m Trial 64 finished with value: 3230.799757119943 and parameters: {'C': 50393.74915021728, 'gamma': 0.6270780407077488}. Best is trial 51 with value: 2917.568583434094.\u001b[0m\n",
      "\u001b[32m[I 2022-01-24 11:44:37,482]\u001b[0m Trial 65 finished with value: 2917.6603732485014 and parameters: {'C': 82674.27909615728, 'gamma': 0.14595223634001142}. Best is trial 51 with value: 2917.568583434094.\u001b[0m\n",
      "\u001b[32m[I 2022-01-24 11:44:42,790]\u001b[0m Trial 66 finished with value: 11453.986718952052 and parameters: {'C': 0.4604264194065318, 'gamma': 0.13751956963111855}. Best is trial 51 with value: 2917.568583434094.\u001b[0m\n",
      "\u001b[32m[I 2022-01-24 11:44:48,021]\u001b[0m Trial 67 finished with value: 4784.571554336785 and parameters: {'C': 20836.852126549427, 'gamma': 0.0013608710290083255}. Best is trial 51 with value: 2917.568583434094.\u001b[0m\n",
      "\u001b[32m[I 2022-01-24 11:44:53,032]\u001b[0m Trial 68 finished with value: 11706.142042838183 and parameters: {'C': 0.010471225914353592, 'gamma': 0.44185427249427395}. Best is trial 51 with value: 2917.568583434094.\u001b[0m\n",
      "\u001b[32m[I 2022-01-24 11:44:58,153]\u001b[0m Trial 69 finished with value: 3499.9050732955357 and parameters: {'C': 3155.9606143840397, 'gamma': 0.06544897131226653}. Best is trial 51 with value: 2917.568583434094.\u001b[0m\n",
      "\u001b[32m[I 2022-01-24 11:45:08,859]\u001b[0m Trial 70 finished with value: 4642.717609343586 and parameters: {'C': 9172.785078861518, 'gamma': 3.03979588441018}. Best is trial 51 with value: 2917.568583434094.\u001b[0m\n",
      "\u001b[32m[I 2022-01-24 11:45:18,413]\u001b[0m Trial 71 finished with value: 2974.921720616201 and parameters: {'C': 61871.55000824904, 'gamma': 0.04177444414017928}. Best is trial 51 with value: 2917.568583434094.\u001b[0m\n",
      "\u001b[32m[I 2022-01-24 11:45:24,695]\u001b[0m Trial 72 finished with value: 3254.7788707164445 and parameters: {'C': 76605.78955846906, 'gamma': 0.008175887423778025}. Best is trial 51 with value: 2917.568583434094.\u001b[0m\n",
      "\u001b[32m[I 2022-01-24 11:45:34,109]\u001b[0m Trial 73 finished with value: 2944.168769193463 and parameters: {'C': 30335.287095173528, 'gamma': 0.14307976439086617}. Best is trial 51 with value: 2917.568583434094.\u001b[0m\n",
      "\u001b[32m[I 2022-01-24 11:45:46,768]\u001b[0m Trial 74 finished with value: 2949.032962152975 and parameters: {'C': 26745.377448131774, 'gamma': 0.1854277220666971}. Best is trial 51 with value: 2917.568583434094.\u001b[0m\n",
      "\u001b[32m[I 2022-01-24 11:45:57,035]\u001b[0m Trial 75 finished with value: 2955.472868338828 and parameters: {'C': 23076.724057840394, 'gamma': 0.17579755704378022}. Best is trial 51 with value: 2917.568583434094.\u001b[0m\n",
      "\u001b[32m[I 2022-01-24 11:46:03,406]\u001b[0m Trial 76 finished with value: 3444.843906494674 and parameters: {'C': 5352.736163637984, 'gamma': 0.49994501759920024}. Best is trial 51 with value: 2917.568583434094.\u001b[0m\n",
      "\u001b[32m[I 2022-01-24 11:46:11,358]\u001b[0m Trial 77 finished with value: 2972.5289251842714 and parameters: {'C': 16982.521258187156, 'gamma': 0.22330169469098543}. Best is trial 51 with value: 2917.568583434094.\u001b[0m\n",
      "\u001b[32m[I 2022-01-24 11:46:27,507]\u001b[0m Trial 78 finished with value: 3902.4701905913216 and parameters: {'C': 36362.433013089416, 'gamma': 1.8308057310796169}. Best is trial 51 with value: 2917.568583434094.\u001b[0m\n",
      "\u001b[32m[I 2022-01-24 11:46:32,347]\u001b[0m Trial 79 finished with value: 11444.33915553848 and parameters: {'C': 4.018456611474337, 'gamma': 0.7014591469766135}. Best is trial 51 with value: 2917.568583434094.\u001b[0m\n",
      "\u001b[32m[I 2022-01-24 11:46:37,311]\u001b[0m Trial 80 finished with value: 4715.668071533355 and parameters: {'C': 486.9414921644039, 'gamma': 0.19084934668169945}. Best is trial 51 with value: 2917.568583434094.\u001b[0m\n",
      "\u001b[32m[I 2022-01-24 11:46:44,289]\u001b[0m Trial 81 finished with value: 2989.4212640168316 and parameters: {'C': 20132.05031886257, 'gamma': 0.08076003346567652}. Best is trial 51 with value: 2917.568583434094.\u001b[0m\n",
      "\u001b[32m[I 2022-01-24 11:46:57,789]\u001b[0m Trial 82 finished with value: 2937.791624781781 and parameters: {'C': 39559.59294925993, 'gamma': 0.12905178161393133}. Best is trial 51 with value: 2917.568583434094.\u001b[0m\n",
      "\u001b[32m[I 2022-01-24 11:47:05,077]\u001b[0m Trial 83 finished with value: 3180.346829700267 and parameters: {'C': 7908.803548904842, 'gamma': 0.43048611128674885}. Best is trial 51 with value: 2917.568583434094.\u001b[0m\n",
      "\u001b[32m[I 2022-01-24 11:47:18,664]\u001b[0m Trial 84 finished with value: 2933.74656825697 and parameters: {'C': 44303.00131964196, 'gamma': 0.14382662005290878}. Best is trial 51 with value: 2917.568583434094.\u001b[0m\n",
      "\u001b[32m[I 2022-01-24 11:47:24,748]\u001b[0m Trial 85 finished with value: 3122.6564234841358 and parameters: {'C': 46105.54253170416, 'gamma': 0.02014934194541357}. Best is trial 51 with value: 2917.568583434094.\u001b[0m\n",
      "\u001b[32m[I 2022-01-24 11:47:29,967]\u001b[0m Trial 86 finished with value: 5435.390910948719 and parameters: {'C': 1555.4838134957354, 'gamma': 1.1779951697976327}. Best is trial 51 with value: 2917.568583434094.\u001b[0m\n",
      "\u001b[32m[I 2022-01-24 11:47:38,760]\u001b[0m Trial 87 finished with value: 2959.4740028399983 and parameters: {'C': 41142.50590242228, 'gamma': 0.06123828326000139}. Best is trial 51 with value: 2917.568583434094.\u001b[0m\n",
      "\u001b[32m[I 2022-01-24 11:47:47,611]\u001b[0m Trial 88 finished with value: 3021.30590046563 and parameters: {'C': 15183.91592968665, 'gamma': 0.349645810585247}. Best is trial 51 with value: 2917.568583434094.\u001b[0m\n",
      "\u001b[32m[I 2022-01-24 11:47:54,688]\u001b[0m Trial 89 finished with value: 5505.4196521047415 and parameters: {'C': 3955.9541663948057, 'gamma': 2.876635185807693}. Best is trial 51 with value: 2917.568583434094.\u001b[0m\n",
      "\u001b[32m[I 2022-01-24 11:48:12,914]\u001b[0m Trial 90 finished with value: 10486.600044698693 and parameters: {'C': 10861.901949356785, 'gamma': 31928.11422700778}. Best is trial 51 with value: 2917.568583434094.\u001b[0m\n",
      "\u001b[32m[I 2022-01-24 11:48:24,552]\u001b[0m Trial 91 finished with value: 2947.2221712238265 and parameters: {'C': 29267.705012504746, 'gamma': 0.15189195445645315}. Best is trial 51 with value: 2917.568583434094.\u001b[0m\n",
      "\u001b[32m[I 2022-01-24 11:48:37,693]\u001b[0m Trial 92 finished with value: 2930.73439006898 and parameters: {'C': 52414.01614948823, 'gamma': 0.10668857857889487}. Best is trial 51 with value: 2917.568583434094.\u001b[0m\n",
      "\u001b[32m[I 2022-01-24 11:48:51,129]\u001b[0m Trial 93 finished with value: 2928.837428890912 and parameters: {'C': 58194.376609831736, 'gamma': 0.10466385327581551}. Best is trial 51 with value: 2917.568583434094.\u001b[0m\n",
      "\u001b[32m[I 2022-01-24 11:49:05,929]\u001b[0m Trial 94 finished with value: 2917.2558907054436 and parameters: {'C': 64769.06300979181, 'gamma': 0.08916157659114993}. Best is trial 94 with value: 2917.2558907054436.\u001b[0m\n",
      "\u001b[32m[I 2022-01-24 11:49:11,872]\u001b[0m Trial 95 finished with value: 3225.1631369867873 and parameters: {'C': 55285.39432152748, 'gamma': 0.011565485739471354}. Best is trial 94 with value: 2917.2558907054436.\u001b[0m\n",
      "\u001b[32m[I 2022-01-24 11:49:18,723]\u001b[0m Trial 96 finished with value: 3087.86854447134 and parameters: {'C': 64893.86196191578, 'gamma': 0.02019599758754161}. Best is trial 94 with value: 2917.2558907054436.\u001b[0m\n",
      "\u001b[32m[I 2022-01-24 11:49:38,717]\u001b[0m Trial 97 finished with value: 2914.548666981176 and parameters: {'C': 93393.95551505504, 'gamma': 0.08345221397602597}. Best is trial 97 with value: 2914.548666981176.\u001b[0m\n",
      "\u001b[32m[I 2022-01-24 11:49:44,375]\u001b[0m Trial 98 finished with value: 3217.9629576006114 and parameters: {'C': 6751.645498905565, 'gamma': 0.09239515494618629}. Best is trial 97 with value: 2914.548666981176.\u001b[0m\n",
      "\u001b[32m[I 2022-01-24 11:50:05,353]\u001b[0m Trial 99 finished with value: 2984.746442392677 and parameters: {'C': 64385.78081090947, 'gamma': 0.2818052155961173}. Best is trial 97 with value: 2914.548666981176.\u001b[0m\n"
     ]
    }
   ],
   "source": [
    "study_svr = optuna.create_study(direction=\"minimize\")\n",
    "study_svr.optimize(objective_svr, n_trials=100)"
   ]
  },
  {
   "cell_type": "code",
   "execution_count": 148,
   "metadata": {},
   "outputs": [
    {
     "data": {
      "text/plain": [
       "2914.548666981176"
      ]
     },
     "execution_count": 148,
     "metadata": {},
     "output_type": "execute_result"
    }
   ],
   "source": [
    "final_svr = SVR(kernel=\"rbf\", C=study_svr.best_params[\"C\"], gamma=study_svr.best_params[\"gamma\"])\n",
    "final_svr.fit(X_train, y_train)\n",
    "y_pred_final_svr = final_svr.predict(X_test)\n",
    "np.sqrt(mean_squared_error(y_test, y_pred_final_svr))"
   ]
  },
  {
   "cell_type": "code",
   "execution_count": 154,
   "metadata": {},
   "outputs": [],
   "source": [
    "# cross validation\n",
    "from sklearn.model_selection import cross_val_score\n",
    "\n",
    "cv = cross_val_score(final_svr, X, y, cv=5, scoring=\"neg_mean_squared_error\")"
   ]
  },
  {
   "cell_type": "code",
   "execution_count": 182,
   "metadata": {},
   "outputs": [
    {
     "name": "stdout",
     "output_type": "stream",
     "text": [
      "fold 1 :  2237.182211530244\n",
      "fold 2 :  3789.8020882059163\n",
      "fold 3 :  3292.0641998295246\n",
      "fold 4 :  2534.2802365523157\n",
      "fold 5 :  2417.5095769815457\n",
      "mean fold :  2914.522248442569\n"
     ]
    }
   ],
   "source": [
    "print(\"fold 1 : \", np.sqrt(-cv[0]))\n",
    "print(\"fold 2 : \", np.sqrt(-cv[1]))\n",
    "print(\"fold 3 : \", np.sqrt(-cv[2]))\n",
    "print(\"fold 4 : \", np.sqrt(-cv[3]))\n",
    "print(\"fold 5 : \", np.sqrt(-cv[4]))\n",
    "\n",
    "print(\"mean fold : \",np.sqrt(-np.mean(cv))) # off by $2914\n"
   ]
  },
  {
   "cell_type": "code",
   "execution_count": 173,
   "metadata": {},
   "outputs": [
    {
     "data": {
      "text/plain": [
       "2760.386544921518"
      ]
     },
     "execution_count": 173,
     "metadata": {},
     "output_type": "execute_result"
    }
   ],
   "source": [
    "from xgboost import XGBRegressor\n",
    "\n",
    "xgbr = XGBRegressor(n_estimators=100, learning_rate=0.1)\n",
    "xgbr.fit(X_train, y_train)\n",
    "y_pred_xgbr = xgbr.predict(X_test)\n",
    "np.sqrt(mean_squared_error(y_test, y_pred_xgbr))"
   ]
  },
  {
   "cell_type": "code",
   "execution_count": 174,
   "metadata": {},
   "outputs": [],
   "source": [
    "def objective_xgbr(trial):\n",
    "    n_estimators = trial.suggest_int(\"n_estimators\", 50, 500)\n",
    "    learning_rate = trial.suggest_loguniform(\"learning_rate\", 1e-5, 1e-1)\n",
    "    xgbr = XGBRegressor(n_estimators=n_estimators, learning_rate=learning_rate)\n",
    "    xgbr.fit(X_train, y_train)\n",
    "    y_pred = xgbr.predict(X_test)\n",
    "    return np.sqrt(mean_squared_error(y_test, y_pred))"
   ]
  },
  {
   "cell_type": "code",
   "execution_count": 175,
   "metadata": {},
   "outputs": [
    {
     "name": "stderr",
     "output_type": "stream",
     "text": [
      "\u001b[32m[I 2022-01-24 12:05:51,742]\u001b[0m A new study created in memory with name: no-name-3a36b5c7-8fb5-4be9-97a8-8782f3d931af\u001b[0m\n",
      "\u001b[32m[I 2022-01-24 12:05:52,853]\u001b[0m Trial 0 finished with value: 22765.984998864587 and parameters: {'n_estimators': 305, 'learning_rate': 0.0004045813297994929}. Best is trial 0 with value: 22765.984998864587.\u001b[0m\n",
      "\u001b[32m[I 2022-01-24 12:05:53,799]\u001b[0m Trial 1 finished with value: 3990.219321453666 and parameters: {'n_estimators': 288, 'learning_rate': 0.008327778896234516}. Best is trial 1 with value: 3990.219321453666.\u001b[0m\n",
      "\u001b[32m[I 2022-01-24 12:05:54,525]\u001b[0m Trial 2 finished with value: 25581.482524927884 and parameters: {'n_estimators': 216, 'learning_rate': 1.2467826859933095e-05}. Best is trial 1 with value: 3990.219321453666.\u001b[0m\n",
      "\u001b[32m[I 2022-01-24 12:05:55,876]\u001b[0m Trial 3 finished with value: 2710.5438160886088 and parameters: {'n_estimators': 421, 'learning_rate': 0.05943527611709936}. Best is trial 3 with value: 2710.5438160886088.\u001b[0m\n",
      "\u001b[32m[I 2022-01-24 12:05:57,219]\u001b[0m Trial 4 finished with value: 24909.748931180282 and parameters: {'n_estimators': 399, 'learning_rate': 7.545168821420723e-05}. Best is trial 3 with value: 2710.5438160886088.\u001b[0m\n",
      "\u001b[32m[I 2022-01-24 12:05:58,644]\u001b[0m Trial 5 finished with value: 25031.00559355396 and parameters: {'n_estimators': 436, 'learning_rate': 5.756553621438676e-05}. Best is trial 3 with value: 2710.5438160886088.\u001b[0m\n",
      "\u001b[32m[I 2022-01-24 12:05:59,134]\u001b[0m Trial 6 finished with value: 21653.875838249118 and parameters: {'n_estimators': 139, 'learning_rate': 0.001263011532308398}. Best is trial 3 with value: 2710.5438160886088.\u001b[0m\n",
      "\u001b[32m[I 2022-01-24 12:06:00,409]\u001b[0m Trial 7 finished with value: 3350.6297401146817 and parameters: {'n_estimators': 363, 'learning_rate': 0.008258672442620029}. Best is trial 3 with value: 2710.5438160886088.\u001b[0m\n",
      "\u001b[32m[I 2022-01-24 12:06:00,757]\u001b[0m Trial 8 finished with value: 23363.485630609142 and parameters: {'n_estimators': 84, 'learning_rate': 0.0011479404288580698}. Best is trial 3 with value: 2710.5438160886088.\u001b[0m\n",
      "\u001b[32m[I 2022-01-24 12:06:00,976]\u001b[0m Trial 9 finished with value: 25547.444175349658 and parameters: {'n_estimators': 61, 'learning_rate': 6.661625336016434e-05}. Best is trial 3 with value: 2710.5438160886088.\u001b[0m\n",
      "\u001b[32m[I 2022-01-24 12:06:02,591]\u001b[0m Trial 10 finished with value: 2750.8222900133524 and parameters: {'n_estimators': 474, 'learning_rate': 0.09641177330020108}. Best is trial 3 with value: 2710.5438160886088.\u001b[0m\n",
      "\u001b[32m[I 2022-01-24 12:06:04,073]\u001b[0m Trial 11 finished with value: 2636.908856902075 and parameters: {'n_estimators': 469, 'learning_rate': 0.09844318412377634}. Best is trial 11 with value: 2636.908856902075.\u001b[0m\n",
      "\u001b[32m[I 2022-01-24 12:06:05,672]\u001b[0m Trial 12 finished with value: 2745.499001596064 and parameters: {'n_estimators': 497, 'learning_rate': 0.0992284055005261}. Best is trial 11 with value: 2636.908856902075.\u001b[0m\n",
      "\u001b[32m[I 2022-01-24 12:06:06,824]\u001b[0m Trial 13 finished with value: 2820.7209911540963 and parameters: {'n_estimators': 362, 'learning_rate': 0.020455660615798635}. Best is trial 11 with value: 2636.908856902075.\u001b[0m\n",
      "\u001b[32m[I 2022-01-24 12:06:08,338]\u001b[0m Trial 14 finished with value: 2741.009688120341 and parameters: {'n_estimators': 430, 'learning_rate': 0.026222939428738795}. Best is trial 11 with value: 2636.908856902075.\u001b[0m\n",
      "\u001b[32m[I 2022-01-24 12:06:09,569]\u001b[0m Trial 15 finished with value: 2737.716480918309 and parameters: {'n_estimators': 347, 'learning_rate': 0.028219161422370152}. Best is trial 11 with value: 2636.908856902075.\u001b[0m\n",
      "\u001b[32m[I 2022-01-24 12:06:10,338]\u001b[0m Trial 16 finished with value: 10411.098388613927 and parameters: {'n_estimators': 218, 'learning_rate': 0.004434556387331963}. Best is trial 11 with value: 2636.908856902075.\u001b[0m\n",
      "\u001b[32m[I 2022-01-24 12:06:11,751]\u001b[0m Trial 17 finished with value: 2712.0250121722297 and parameters: {'n_estimators': 448, 'learning_rate': 0.04959889315588149}. Best is trial 11 with value: 2636.908856902075.\u001b[0m\n",
      "\u001b[32m[I 2022-01-24 12:06:13,428]\u001b[0m Trial 18 finished with value: 5012.153140305906 and parameters: {'n_estimators': 499, 'learning_rate': 0.003878083723378295}. Best is trial 11 with value: 2636.908856902075.\u001b[0m\n",
      "\u001b[32m[I 2022-01-24 12:06:14,746]\u001b[0m Trial 19 finished with value: 22741.474625032406 and parameters: {'n_estimators': 398, 'learning_rate': 0.00031287398521484175}. Best is trial 11 with value: 2636.908856902075.\u001b[0m\n",
      "\u001b[32m[I 2022-01-24 12:06:15,499]\u001b[0m Trial 20 finished with value: 3887.5865037567864 and parameters: {'n_estimators': 211, 'learning_rate': 0.011660796172485832}. Best is trial 11 with value: 2636.908856902075.\u001b[0m\n",
      "\u001b[32m[I 2022-01-24 12:06:16,883]\u001b[0m Trial 21 finished with value: 2689.5954503607386 and parameters: {'n_estimators': 435, 'learning_rate': 0.05049927103401701}. Best is trial 11 with value: 2636.908856902075.\u001b[0m\n",
      "\u001b[32m[I 2022-01-24 12:06:18,150]\u001b[0m Trial 22 finished with value: 2644.891039232191 and parameters: {'n_estimators': 402, 'learning_rate': 0.04271962464781227}. Best is trial 11 with value: 2636.908856902075.\u001b[0m\n",
      "\u001b[32m[I 2022-01-24 12:06:19,231]\u001b[0m Trial 23 finished with value: 2716.8102721463474 and parameters: {'n_estimators': 329, 'learning_rate': 0.03873224621461284}. Best is trial 11 with value: 2636.908856902075.\u001b[0m\n",
      "\u001b[32m[I 2022-01-24 12:06:20,545]\u001b[0m Trial 24 finished with value: 2867.9193829025303 and parameters: {'n_estimators': 389, 'learning_rate': 0.01499749135083462}. Best is trial 11 with value: 2636.908856902075.\u001b[0m\n",
      "\u001b[32m[I 2022-01-24 12:06:22,122]\u001b[0m Trial 25 finished with value: 6380.014396441484 and parameters: {'n_estimators': 467, 'learning_rate': 0.003364037612926691}. Best is trial 11 with value: 2636.908856902075.\u001b[0m\n",
      "\u001b[32m[I 2022-01-24 12:06:22,924]\u001b[0m Trial 26 finished with value: 2712.7866314012217 and parameters: {'n_estimators': 244, 'learning_rate': 0.05458191339877512}. Best is trial 11 with value: 2636.908856902075.\u001b[0m\n",
      "\u001b[32m[I 2022-01-24 12:06:24,360]\u001b[0m Trial 27 finished with value: 2683.5130102470152 and parameters: {'n_estimators': 459, 'learning_rate': 0.07796420963673836}. Best is trial 11 with value: 2636.908856902075.\u001b[0m\n",
      "\u001b[32m[I 2022-01-24 12:06:25,870]\u001b[0m Trial 28 finished with value: 2666.4339417603737 and parameters: {'n_estimators': 467, 'learning_rate': 0.09821662440505477}. Best is trial 11 with value: 2636.908856902075.\u001b[0m\n",
      "\u001b[32m[I 2022-01-24 12:06:26,977]\u001b[0m Trial 29 finished with value: 21918.747249033837 and parameters: {'n_estimators': 328, 'learning_rate': 0.0004966817182493184}. Best is trial 11 with value: 2636.908856902075.\u001b[0m\n",
      "\u001b[32m[I 2022-01-24 12:06:28,288]\u001b[0m Trial 30 finished with value: 2770.546549005528 and parameters: {'n_estimators': 401, 'learning_rate': 0.024520203276285422}. Best is trial 11 with value: 2636.908856902075.\u001b[0m\n",
      "\u001b[32m[I 2022-01-24 12:06:29,859]\u001b[0m Trial 31 finished with value: 2718.872509227409 and parameters: {'n_estimators': 471, 'learning_rate': 0.07570599061712088}. Best is trial 11 with value: 2636.908856902075.\u001b[0m\n",
      "\u001b[32m[I 2022-01-24 12:06:31,456]\u001b[0m Trial 32 finished with value: 2705.610043913017 and parameters: {'n_estimators': 460, 'learning_rate': 0.03773265255617687}. Best is trial 11 with value: 2636.908856902075.\u001b[0m\n",
      "\u001b[32m[I 2022-01-24 12:06:33,141]\u001b[0m Trial 33 finished with value: 3058.643978136575 and parameters: {'n_estimators': 488, 'learning_rate': 0.007557656457170021}. Best is trial 11 with value: 2636.908856902075.\u001b[0m\n",
      "\u001b[32m[I 2022-01-24 12:06:34,108]\u001b[0m Trial 34 finished with value: 2666.797688489532 and parameters: {'n_estimators': 297, 'learning_rate': 0.09943861893841036}. Best is trial 11 with value: 2636.908856902075.\u001b[0m\n",
      "\u001b[32m[I 2022-01-24 12:06:35,115]\u001b[0m Trial 35 finished with value: 2902.9346444262433 and parameters: {'n_estimators': 283, 'learning_rate': 0.017902848417594246}. Best is trial 11 with value: 2636.908856902075.\u001b[0m\n",
      "\u001b[32m[I 2022-01-24 12:06:36,118]\u001b[0m Trial 36 finished with value: 2725.1124082041943 and parameters: {'n_estimators': 307, 'learning_rate': 0.09652044020090053}. Best is trial 11 with value: 2636.908856902075.\u001b[0m\n",
      "\u001b[32m[I 2022-01-24 12:06:36,974]\u001b[0m Trial 37 finished with value: 2785.2995589823763 and parameters: {'n_estimators': 261, 'learning_rate': 0.03653772987283808}. Best is trial 11 with value: 2636.908856902075.\u001b[0m\n",
      "\u001b[32m[I 2022-01-24 12:06:37,549]\u001b[0m Trial 38 finished with value: 4888.7495182410075 and parameters: {'n_estimators': 165, 'learning_rate': 0.011941883133600508}. Best is trial 11 with value: 2636.908856902075.\u001b[0m\n",
      "\u001b[32m[I 2022-01-24 12:06:38,839]\u001b[0m Trial 39 finished with value: 24301.998286296217 and parameters: {'n_estimators': 377, 'learning_rate': 0.00014754788324086975}. Best is trial 11 with value: 2636.908856902075.\u001b[0m\n",
      "\u001b[32m[I 2022-01-24 12:06:40,235]\u001b[0m Trial 40 finished with value: 2657.2190840710186 and parameters: {'n_estimators': 417, 'learning_rate': 0.0597738886216667}. Best is trial 11 with value: 2636.908856902075.\u001b[0m\n",
      "\u001b[32m[I 2022-01-24 12:06:41,652]\u001b[0m Trial 41 finished with value: 25476.8823701202 and parameters: {'n_estimators': 417, 'learning_rate': 1.6573620574840873e-05}. Best is trial 11 with value: 2636.908856902075.\u001b[0m\n",
      "\u001b[32m[I 2022-01-24 12:06:43,012]\u001b[0m Trial 42 finished with value: 2704.8658055462984 and parameters: {'n_estimators': 417, 'learning_rate': 0.05424712143753162}. Best is trial 11 with value: 2636.908856902075.\u001b[0m\n",
      "\u001b[32m[I 2022-01-24 12:06:44,430]\u001b[0m Trial 43 finished with value: 2684.762651493494 and parameters: {'n_estimators': 440, 'learning_rate': 0.062457160599284425}. Best is trial 11 with value: 2636.908856902075.\u001b[0m\n",
      "\u001b[32m[I 2022-01-24 12:06:45,673]\u001b[0m Trial 44 finished with value: 2743.8797624531526 and parameters: {'n_estimators': 375, 'learning_rate': 0.031848464812387546}. Best is trial 11 with value: 2636.908856902075.\u001b[0m\n",
      "\u001b[32m[I 2022-01-24 12:06:46,657]\u001b[0m Trial 45 finished with value: 2630.46374186782 and parameters: {'n_estimators': 302, 'learning_rate': 0.09512647889962193}. Best is trial 45 with value: 2630.46374186782.\u001b[0m\n",
      "\u001b[32m[I 2022-01-24 12:06:47,957]\u001b[0m Trial 46 finished with value: 2699.244631360009 and parameters: {'n_estimators': 412, 'learning_rate': 0.06326309402015648}. Best is trial 45 with value: 2630.46374186782.\u001b[0m\n",
      "\u001b[32m[I 2022-01-24 12:06:49,138]\u001b[0m Trial 47 finished with value: 3941.050198381895 and parameters: {'n_estimators': 350, 'learning_rate': 0.006952133136028295}. Best is trial 45 with value: 2630.46374186782.\u001b[0m\n",
      "\u001b[32m[I 2022-01-24 12:06:50,752]\u001b[0m Trial 48 finished with value: 2782.818510831103 and parameters: {'n_estimators': 485, 'learning_rate': 0.021338172458319517}. Best is trial 45 with value: 2630.46374186782.\u001b[0m\n",
      "\u001b[32m[I 2022-01-24 12:06:52,247]\u001b[0m Trial 49 finished with value: 13460.800990161486 and parameters: {'n_estimators': 445, 'learning_rate': 0.001532645338099563}. Best is trial 45 with value: 2630.46374186782.\u001b[0m\n",
      "\u001b[32m[I 2022-01-24 12:06:52,712]\u001b[0m Trial 50 finished with value: 2891.405048340795 and parameters: {'n_estimators': 137, 'learning_rate': 0.038666566079429567}. Best is trial 45 with value: 2630.46374186782.\u001b[0m\n",
      "\u001b[32m[I 2022-01-24 12:06:53,689]\u001b[0m Trial 51 finished with value: 2681.2402890621242 and parameters: {'n_estimators': 302, 'learning_rate': 0.09525696853712166}. Best is trial 45 with value: 2630.46374186782.\u001b[0m\n",
      "\u001b[32m[I 2022-01-24 12:06:54,501]\u001b[0m Trial 52 finished with value: 2739.4007573272306 and parameters: {'n_estimators': 250, 'learning_rate': 0.09752059297765306}. Best is trial 45 with value: 2630.46374186782.\u001b[0m\n",
      "\u001b[32m[I 2022-01-24 12:06:55,567]\u001b[0m Trial 53 finished with value: 2710.625381197471 and parameters: {'n_estimators': 322, 'learning_rate': 0.06481405974615542}. Best is trial 45 with value: 2630.46374186782.\u001b[0m\n",
      "\u001b[32m[I 2022-01-24 12:06:56,673]\u001b[0m Trial 54 finished with value: 2737.081618133152 and parameters: {'n_estimators': 348, 'learning_rate': 0.04460249258877149}. Best is trial 45 with value: 2630.46374186782.\u001b[0m\n",
      "\u001b[32m[I 2022-01-24 12:06:57,666]\u001b[0m Trial 55 finished with value: 2826.8548318959474 and parameters: {'n_estimators': 299, 'learning_rate': 0.023445006933619242}. Best is trial 45 with value: 2630.46374186782.\u001b[0m\n",
      "\u001b[32m[I 2022-01-24 12:06:58,879]\u001b[0m Trial 56 finished with value: 2696.6109220713533 and parameters: {'n_estimators': 388, 'learning_rate': 0.06739020758202102}. Best is trial 45 with value: 2630.46374186782.\u001b[0m\n",
      "\u001b[32m[I 2022-01-24 12:06:59,636]\u001b[0m Trial 57 finished with value: 3100.7573759408383 and parameters: {'n_estimators': 219, 'learning_rate': 0.01621783276408989}. Best is trial 45 with value: 2630.46374186782.\u001b[0m\n",
      "\u001b[32m[I 2022-01-24 12:07:01,198]\u001b[0m Trial 58 finished with value: 2681.6527603962722 and parameters: {'n_estimators': 478, 'learning_rate': 0.04616664389991076}. Best is trial 45 with value: 2630.46374186782.\u001b[0m\n",
      "\u001b[32m[I 2022-01-24 12:07:02,588]\u001b[0m Trial 59 finished with value: 2710.2479995233884 and parameters: {'n_estimators': 426, 'learning_rate': 0.029016220791926162}. Best is trial 45 with value: 2630.46374186782.\u001b[0m\n",
      "\u001b[32m[I 2022-01-24 12:07:04,151]\u001b[0m Trial 60 finished with value: 10218.067523775095 and parameters: {'n_estimators': 452, 'learning_rate': 0.00218807147511921}. Best is trial 45 with value: 2630.46374186782.\u001b[0m\n",
      "\u001b[32m[I 2022-01-24 12:07:05,083]\u001b[0m Trial 61 finished with value: 2711.3852966647623 and parameters: {'n_estimators': 275, 'learning_rate': 0.09725643577515743}. Best is trial 45 with value: 2630.46374186782.\u001b[0m\n",
      "\u001b[32m[I 2022-01-24 12:07:06,075]\u001b[0m Trial 62 finished with value: 2645.2206364509243 and parameters: {'n_estimators': 309, 'learning_rate': 0.07669618460023894}. Best is trial 45 with value: 2630.46374186782.\u001b[0m\n",
      "\u001b[32m[I 2022-01-24 12:07:06,959]\u001b[0m Trial 63 finished with value: 2651.8490368718208 and parameters: {'n_estimators': 268, 'learning_rate': 0.07662068145362146}. Best is trial 45 with value: 2630.46374186782.\u001b[0m\n",
      "\u001b[32m[I 2022-01-24 12:07:07,961]\u001b[0m Trial 64 finished with value: 2693.8881182520427 and parameters: {'n_estimators': 319, 'learning_rate': 0.07101903396777412}. Best is trial 45 with value: 2630.46374186782.\u001b[0m\n",
      "\u001b[32m[I 2022-01-24 12:07:08,632]\u001b[0m Trial 65 finished with value: 22437.349756148767 and parameters: {'n_estimators': 198, 'learning_rate': 0.0006995556291549375}. Best is trial 45 with value: 2630.46374186782.\u001b[0m\n",
      "\u001b[32m[I 2022-01-24 12:07:09,424]\u001b[0m Trial 66 finished with value: 2737.493720814959 and parameters: {'n_estimators': 242, 'learning_rate': 0.050798771033251665}. Best is trial 45 with value: 2630.46374186782.\u001b[0m\n",
      "\u001b[32m[I 2022-01-24 12:07:11,069]\u001b[0m Trial 67 finished with value: 2696.8400685713227 and parameters: {'n_estimators': 499, 'learning_rate': 0.031147827711104407}. Best is trial 45 with value: 2630.46374186782.\u001b[0m\n",
      "\u001b[32m[I 2022-01-24 12:07:12,118]\u001b[0m Trial 68 finished with value: 2677.3738775707902 and parameters: {'n_estimators': 335, 'learning_rate': 0.076371932703931}. Best is trial 45 with value: 2630.46374186782.\u001b[0m\n",
      "\u001b[32m[I 2022-01-24 12:07:13,033]\u001b[0m Trial 69 finished with value: 3524.319568652501 and parameters: {'n_estimators': 274, 'learning_rate': 0.010111600689684525}. Best is trial 45 with value: 2630.46374186782.\u001b[0m\n",
      "\u001b[32m[I 2022-01-24 12:07:14,191]\u001b[0m Trial 70 finished with value: 2747.3735324294753 and parameters: {'n_estimators': 359, 'learning_rate': 0.035032723296919116}. Best is trial 45 with value: 2630.46374186782.\u001b[0m\n",
      "\u001b[32m[I 2022-01-24 12:07:15,234]\u001b[0m Trial 71 finished with value: 2706.198350413173 and parameters: {'n_estimators': 312, 'learning_rate': 0.07830664192185915}. Best is trial 45 with value: 2630.46374186782.\u001b[0m\n",
      "\u001b[32m[I 2022-01-24 12:07:16,166]\u001b[0m Trial 72 finished with value: 2728.6763050694567 and parameters: {'n_estimators': 289, 'learning_rate': 0.0503240487683266}. Best is trial 45 with value: 2630.46374186782.\u001b[0m\n",
      "\u001b[32m[I 2022-01-24 12:07:17,020]\u001b[0m Trial 73 finished with value: 2700.5401391182813 and parameters: {'n_estimators': 260, 'learning_rate': 0.08309861368963956}. Best is trial 45 with value: 2630.46374186782.\u001b[0m\n",
      "\u001b[32m[I 2022-01-24 12:07:17,791]\u001b[0m Trial 74 finished with value: 2729.3692055460288 and parameters: {'n_estimators': 229, 'learning_rate': 0.056557396161896596}. Best is trial 45 with value: 2630.46374186782.\u001b[0m\n",
      "\u001b[32m[I 2022-01-24 12:07:18,877]\u001b[0m Trial 75 finished with value: 2725.515967452559 and parameters: {'n_estimators': 337, 'learning_rate': 0.04290398814065639}. Best is trial 45 with value: 2630.46374186782.\u001b[0m\n",
      "\u001b[32m[I 2022-01-24 12:07:19,798]\u001b[0m Trial 76 finished with value: 2683.662151786377 and parameters: {'n_estimators': 287, 'learning_rate': 0.0651393420723772}. Best is trial 45 with value: 2630.46374186782.\u001b[0m\n",
      "\u001b[32m[I 2022-01-24 12:07:21,381]\u001b[0m Trial 77 finished with value: 25262.172482152848 and parameters: {'n_estimators': 469, 'learning_rate': 3.3319636009998706e-05}. Best is trial 45 with value: 2630.46374186782.\u001b[0m\n",
      "\u001b[32m[I 2022-01-24 12:07:22,703]\u001b[0m Trial 78 finished with value: 2783.2287232018657 and parameters: {'n_estimators': 398, 'learning_rate': 0.024096231429351283}. Best is trial 45 with value: 2630.46374186782.\u001b[0m\n",
      "\u001b[32m[I 2022-01-24 12:07:23,872]\u001b[0m Trial 79 finished with value: 2725.286955760108 and parameters: {'n_estimators': 375, 'learning_rate': 0.09679424171632578}. Best is trial 45 with value: 2630.46374186782.\u001b[0m\n",
      "\u001b[32m[I 2022-01-24 12:07:25,282]\u001b[0m Trial 80 finished with value: 4380.0339512401415 and parameters: {'n_estimators': 409, 'learning_rate': 0.005348035136023151}. Best is trial 45 with value: 2630.46374186782.\u001b[0m\n",
      "\u001b[32m[I 2022-01-24 12:07:26,158]\u001b[0m Trial 81 finished with value: 2678.5943837915315 and parameters: {'n_estimators': 270, 'learning_rate': 0.07343139659424033}. Best is trial 45 with value: 2630.46374186782.\u001b[0m\n",
      "\u001b[32m[I 2022-01-24 12:07:27,227]\u001b[0m Trial 82 finished with value: 2686.6453381551546 and parameters: {'n_estimators': 331, 'learning_rate': 0.05244265633943833}. Best is trial 45 with value: 2630.46374186782.\u001b[0m\n",
      "\u001b[32m[I 2022-01-24 12:07:28,132]\u001b[0m Trial 83 finished with value: 2626.0393726694474 and parameters: {'n_estimators': 291, 'learning_rate': 0.080150714200551}. Best is trial 83 with value: 2626.0393726694474.\u001b[0m\n",
      "\u001b[32m[I 2022-01-24 12:07:29,145]\u001b[0m Trial 84 finished with value: 24260.64437151373 and parameters: {'n_estimators': 295, 'learning_rate': 0.0001945345842532055}. Best is trial 83 with value: 2626.0393726694474.\u001b[0m\n",
      "\u001b[32m[I 2022-01-24 12:07:30,190]\u001b[0m Trial 85 finished with value: 2729.2814124148094 and parameters: {'n_estimators': 310, 'learning_rate': 0.040660317638947875}. Best is trial 83 with value: 2626.0393726694474.\u001b[0m\n",
      "\u001b[32m[I 2022-01-24 12:07:31,612]\u001b[0m Trial 86 finished with value: 2651.1038034957014 and parameters: {'n_estimators': 430, 'learning_rate': 0.08123763098797282}. Best is trial 83 with value: 2626.0393726694474.\u001b[0m\n",
      "\u001b[32m[I 2022-01-24 12:07:33,047]\u001b[0m Trial 87 finished with value: 2724.561996242453 and parameters: {'n_estimators': 432, 'learning_rate': 0.02888556410192418}. Best is trial 83 with value: 2626.0393726694474.\u001b[0m\n",
      "\u001b[32m[I 2022-01-24 12:07:34,869]\u001b[0m Trial 88 finished with value: 2650.741102862886 and parameters: {'n_estimators': 448, 'learning_rate': 0.08089282630243594}. Best is trial 83 with value: 2626.0393726694474.\u001b[0m\n",
      "\u001b[32m[I 2022-01-24 12:07:36,374]\u001b[0m Trial 89 finished with value: 2691.637255288892 and parameters: {'n_estimators': 445, 'learning_rate': 0.062499546411045485}. Best is trial 83 with value: 2626.0393726694474.\u001b[0m\n",
      "\u001b[32m[I 2022-01-24 12:07:37,904]\u001b[0m Trial 90 finished with value: 2792.1337409050184 and parameters: {'n_estimators': 461, 'learning_rate': 0.017547895273832395}. Best is trial 83 with value: 2626.0393726694474.\u001b[0m\n",
      "\u001b[32m[I 2022-01-24 12:07:39,230]\u001b[0m Trial 91 finished with value: 2632.8375147236893 and parameters: {'n_estimators': 433, 'learning_rate': 0.07966529257462483}. Best is trial 83 with value: 2626.0393726694474.\u001b[0m\n",
      "\u001b[32m[I 2022-01-24 12:07:40,634]\u001b[0m Trial 92 finished with value: 2725.9955700367186 and parameters: {'n_estimators': 432, 'learning_rate': 0.08020940825432929}. Best is trial 83 with value: 2626.0393726694474.\u001b[0m\n",
      "\u001b[32m[I 2022-01-24 12:07:41,840]\u001b[0m Trial 93 finished with value: 2698.577854762334 and parameters: {'n_estimators': 386, 'learning_rate': 0.05736263368443132}. Best is trial 83 with value: 2626.0393726694474.\u001b[0m\n",
      "\u001b[32m[I 2022-01-24 12:07:43,254]\u001b[0m Trial 94 finished with value: 2694.46640820211 and parameters: {'n_estimators': 454, 'learning_rate': 0.03924231401287157}. Best is trial 83 with value: 2626.0393726694474.\u001b[0m\n",
      "\u001b[32m[I 2022-01-24 12:07:44,758]\u001b[0m Trial 95 finished with value: 2663.6098364451937 and parameters: {'n_estimators': 481, 'learning_rate': 0.046620535221946195}. Best is trial 83 with value: 2626.0393726694474.\u001b[0m\n",
      "\u001b[32m[I 2022-01-24 12:07:46,097]\u001b[0m Trial 96 finished with value: 2708.9503945377814 and parameters: {'n_estimators': 423, 'learning_rate': 0.08341759737287144}. Best is trial 83 with value: 2626.0393726694474.\u001b[0m\n",
      "\u001b[32m[I 2022-01-24 12:07:47,422]\u001b[0m Trial 97 finished with value: 2725.155714539639 and parameters: {'n_estimators': 404, 'learning_rate': 0.033762040325988445}. Best is trial 83 with value: 2626.0393726694474.\u001b[0m\n",
      "\u001b[32m[I 2022-01-24 12:07:48,846]\u001b[0m Trial 98 finished with value: 2645.06099609168 and parameters: {'n_estimators': 443, 'learning_rate': 0.08106049830730201}. Best is trial 83 with value: 2626.0393726694474.\u001b[0m\n",
      "\u001b[32m[I 2022-01-24 12:07:50,360]\u001b[0m Trial 99 finished with value: 2725.442443518081 and parameters: {'n_estimators': 443, 'learning_rate': 0.07765270488653972}. Best is trial 83 with value: 2626.0393726694474.\u001b[0m\n"
     ]
    }
   ],
   "source": [
    "study_xgbr = optuna.create_study(direction=\"minimize\")\n",
    "study_xgbr.optimize(objective_xgbr, n_trials=100)"
   ]
  },
  {
   "cell_type": "code",
   "execution_count": 179,
   "metadata": {},
   "outputs": [
    {
     "data": {
      "text/plain": [
       "2626.0393726694474"
      ]
     },
     "execution_count": 179,
     "metadata": {},
     "output_type": "execute_result"
    }
   ],
   "source": [
    "final_xgbr = XGBRegressor(**study_xgbr.best_params)\n",
    "final_xgbr.fit(X_train, y_train)\n",
    "y_pred_final_xgbr = final_xgbr.predict(X_test)\n",
    "np.sqrt(mean_squared_error(y_test, y_pred_final_xgbr))"
   ]
  },
  {
   "cell_type": "code",
   "execution_count": 180,
   "metadata": {},
   "outputs": [],
   "source": [
    "cv_xgbr = cross_val_score(final_xgbr, X, y, cv=5, scoring=\"neg_mean_squared_error\")"
   ]
  },
  {
   "cell_type": "code",
   "execution_count": 185,
   "metadata": {},
   "outputs": [
    {
     "name": "stdout",
     "output_type": "stream",
     "text": [
      "\n",
      "fold 1 : 2100.499858468726\n",
      "fold 2 : 3556.1235701176647\n",
      "fold 3 : 3026.9049061476167\n",
      "fold 4 : 2435.0341748376813  \n",
      "fold 5 : 1954.9523080311772\n",
      "\n",
      "mean fold : 2682.219147330729\n",
      "    \n"
     ]
    }
   ],
   "source": [
    "print(f\"\"\"\n",
    "fold 1 : {np.sqrt(-cv_xgbr[0])}\n",
    "fold 2 : {np.sqrt(-cv_xgbr[1])}\n",
    "fold 3 : {np.sqrt(-cv_xgbr[2])}\n",
    "fold 4 : {np.sqrt(-cv_xgbr[3])}  \n",
    "fold 5 : {np.sqrt(-cv_xgbr[4])}\n",
    "\n",
    "mean fold : {np.sqrt(-np.mean(cv_xgbr))}\n",
    "    \"\"\") # off by $2682"
   ]
  }
 ],
 "metadata": {
  "interpreter": {
   "hash": "2358c7718a06ce74613d3ca23af7963e3dc3a98263e194a13e6cf112cb830610"
  },
  "kernelspec": {
   "display_name": "Python 3.9.6 64-bit ('DataScience': conda)",
   "language": "python",
   "name": "python3"
  },
  "language_info": {
   "codemirror_mode": {
    "name": "ipython",
    "version": 3
   },
   "file_extension": ".py",
   "mimetype": "text/x-python",
   "name": "python",
   "nbconvert_exporter": "python",
   "pygments_lexer": "ipython3",
   "version": "3.9.6"
  },
  "orig_nbformat": 4
 },
 "nbformat": 4,
 "nbformat_minor": 2
}
