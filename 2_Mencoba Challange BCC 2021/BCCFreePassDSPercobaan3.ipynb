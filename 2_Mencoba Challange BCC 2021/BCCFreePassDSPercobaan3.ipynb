{
 "cells": [
  {
   "cell_type": "markdown",
   "metadata": {},
   "source": [
    "# Free Pass Data Science BCC 2021\n",
    "Percobaan Ketiga (Percobaan pertama dan kedua gagal)\n",
    "\n",
    "Sulthan Abiyyu Hakim | 12 November 2021\n",
    "\n",
    "-----\n",
    "\n",
    "## Deskripsi File\n",
    "\n",
    "### Penjelasan atribut dan kelas target\n",
    "- id - Id unik setiap review\n",
    "- review - Review yang diberikan pengguna\n",
    "- jenis_review - Jenis dari review (0=review buruk, 1=review baik)\n",
    "\n",
    "### Perbaikan dari percobaan sebelumnya\n",
    "1. Coba split data untuk holdout, sementara data training untuk cross validation\n",
    "2. Coba menggunakan GridSearchCV untuk mencari parameter optimal dari model Logistic Regression\n",
    "3. Coba melakukan evaluasi dengan menggunakan confusion matrix, f1 score, ROC curve, AUC curve, dan precision recall curve (untuk belajar)\n",
    "4. Mencoba membuat 2 dataframe dengan sample yang imbalance dan undersample\n"
   ]
  },
  {
   "cell_type": "code",
   "execution_count": 112,
   "metadata": {},
   "outputs": [
    {
     "data": {
      "text/html": [
       "<div>\n",
       "<style scoped>\n",
       "    .dataframe tbody tr th:only-of-type {\n",
       "        vertical-align: middle;\n",
       "    }\n",
       "\n",
       "    .dataframe tbody tr th {\n",
       "        vertical-align: top;\n",
       "    }\n",
       "\n",
       "    .dataframe thead th {\n",
       "        text-align: right;\n",
       "    }\n",
       "</style>\n",
       "<table border=\"1\" class=\"dataframe\">\n",
       "  <thead>\n",
       "    <tr style=\"text-align: right;\">\n",
       "      <th></th>\n",
       "      <th>id</th>\n",
       "      <th>review</th>\n",
       "      <th>jenis_review</th>\n",
       "    </tr>\n",
       "  </thead>\n",
       "  <tbody>\n",
       "    <tr>\n",
       "      <th>0</th>\n",
       "      <td>mnac5vg0i3mp5bdp</td>\n",
       "      <td>proses check-in kalau bisa lebih dipercepat ke...</td>\n",
       "      <td>0</td>\n",
       "    </tr>\n",
       "    <tr>\n",
       "      <th>1</th>\n",
       "      <td>1y7m90hp3wwok7fm</td>\n",
       "      <td>Kamar ga sesuai , ada bekas bocor dilangit2 , ...</td>\n",
       "      <td>0</td>\n",
       "    </tr>\n",
       "    <tr>\n",
       "      <th>2</th>\n",
       "      <td>suvdvwh580hmj8nz</td>\n",
       "      <td>Wifi nya aktif tapi tidak bisa di pakai...lele...</td>\n",
       "      <td>1</td>\n",
       "    </tr>\n",
       "    <tr>\n",
       "      <th>3</th>\n",
       "      <td>t07ma1ie3w29kqzy</td>\n",
       "      <td>breakfast harus selalu dikontrol, jangan sampa...</td>\n",
       "      <td>0</td>\n",
       "    </tr>\n",
       "    <tr>\n",
       "      <th>4</th>\n",
       "      <td>jcwq3gfdryrdbdx5</td>\n",
       "      <td>pelayanan ramah namun... tidak ada colokan, ai...</td>\n",
       "      <td>0</td>\n",
       "    </tr>\n",
       "  </tbody>\n",
       "</table>\n",
       "</div>"
      ],
      "text/plain": [
       "                 id                                             review  \\\n",
       "0  mnac5vg0i3mp5bdp  proses check-in kalau bisa lebih dipercepat ke...   \n",
       "1  1y7m90hp3wwok7fm  Kamar ga sesuai , ada bekas bocor dilangit2 , ...   \n",
       "2  suvdvwh580hmj8nz  Wifi nya aktif tapi tidak bisa di pakai...lele...   \n",
       "3  t07ma1ie3w29kqzy  breakfast harus selalu dikontrol, jangan sampa...   \n",
       "4  jcwq3gfdryrdbdx5  pelayanan ramah namun... tidak ada colokan, ai...   \n",
       "\n",
       "   jenis_review  \n",
       "0             0  \n",
       "1             0  \n",
       "2             1  \n",
       "3             0  \n",
       "4             0  "
      ]
     },
     "execution_count": 112,
     "metadata": {},
     "output_type": "execute_result"
    }
   ],
   "source": [
    "import numpy as np\n",
    "import pandas as pd\n",
    "import matplotlib.pyplot as plt\n",
    "import seaborn as sns\n",
    "\n",
    "df_utama = pd.read_csv('data/train.csv')\n",
    "df_utama.head()"
   ]
  },
  {
   "cell_type": "markdown",
   "metadata": {},
   "source": [
    "## Data Prepocessing"
   ]
  },
  {
   "cell_type": "code",
   "execution_count": 113,
   "metadata": {},
   "outputs": [
    {
     "data": {
      "text/plain": [
       "id              0\n",
       "review          0\n",
       "jenis_review    0\n",
       "dtype: int64"
      ]
     },
     "execution_count": 113,
     "metadata": {},
     "output_type": "execute_result"
    }
   ],
   "source": [
    "# Checking for missing values\n",
    "df_utama.isnull().sum()"
   ]
  },
  {
   "cell_type": "code",
   "execution_count": 114,
   "metadata": {},
   "outputs": [
    {
     "data": {
      "text/plain": [
       "0"
      ]
     },
     "execution_count": 114,
     "metadata": {},
     "output_type": "execute_result"
    }
   ],
   "source": [
    "# Checking for duplicate values\n",
    "df_utama.duplicated().sum()"
   ]
  },
  {
   "cell_type": "code",
   "execution_count": 115,
   "metadata": {},
   "outputs": [
    {
     "data": {
      "text/plain": [
       "id              11142\n",
       "review          11142\n",
       "jenis_review        2\n",
       "dtype: int64"
      ]
     },
     "execution_count": 115,
     "metadata": {},
     "output_type": "execute_result"
    }
   ],
   "source": [
    "# Checking for unique values\n",
    "df_utama.nunique()"
   ]
  },
  {
   "cell_type": "code",
   "execution_count": 116,
   "metadata": {},
   "outputs": [
    {
     "data": {
      "text/plain": [
       "id              object\n",
       "review          object\n",
       "jenis_review     int64\n",
       "dtype: object"
      ]
     },
     "execution_count": 116,
     "metadata": {},
     "output_type": "execute_result"
    }
   ],
   "source": [
    "# Checking data types\n",
    "df_utama.dtypes"
   ]
  },
  {
   "cell_type": "code",
   "execution_count": 117,
   "metadata": {},
   "outputs": [
    {
     "name": "stdout",
     "output_type": "stream",
     "text": [
      "<class 'pandas.core.frame.DataFrame'>\n",
      "RangeIndex: 11142 entries, 0 to 11141\n",
      "Data columns (total 3 columns):\n",
      " #   Column        Non-Null Count  Dtype \n",
      "---  ------        --------------  ----- \n",
      " 0   id            11142 non-null  object\n",
      " 1   review        11142 non-null  object\n",
      " 2   jenis_review  11142 non-null  int64 \n",
      "dtypes: int64(1), object(2)\n",
      "memory usage: 261.3+ KB\n"
     ]
    }
   ],
   "source": [
    "# Overall information\n",
    "df_utama.info()"
   ]
  },
  {
   "cell_type": "markdown",
   "metadata": {},
   "source": [
    "### Kesimpulan Data Prepocessing\n",
    "Tidak terdapat missing value, duplicates, dan data type yang salah\n",
    "Sebenarnya banyak data cleaning yang bisa dilakukan terutama pada kolom review, tapi pada saat ini saya masih belum belajar sampai situ.\n"
   ]
  },
  {
   "cell_type": "markdown",
   "metadata": {},
   "source": [
    "-----------\n",
    "\n",
    "## Modeling\n",
    "Karena ini adalah kasus binary classification, maka kali ini akan menggunakan model Logistic Regression."
   ]
  },
  {
   "cell_type": "code",
   "execution_count": 42,
   "metadata": {},
   "outputs": [],
   "source": [
    "# Splitting data\n",
    "X_normal = df_utama.drop(columns=[\"jenis_review\", \"id\"])\n",
    "y_normal = df_utama[\"jenis_review\"]"
   ]
  },
  {
   "cell_type": "code",
   "execution_count": 43,
   "metadata": {},
   "outputs": [
    {
     "data": {
      "image/png": "[encoded data removed]",
      "text/plain": [
       "<Figure size 432x288 with 1 Axes>"
      ]
     },
     "metadata": {
      "needs_background": "light"
     },
     "output_type": "display_data"
    }
   ],
   "source": [
    "# data normal tanpa sampling\n",
    "\n",
    "sns.countplot(x=y_normal)\n",
    "plt.show()"
   ]
  },
  {
   "cell_type": "code",
   "execution_count": 44,
   "metadata": {},
   "outputs": [
    {
     "data": {
      "image/png": "[encoded data removed]",
      "text/plain": [
       "<Figure size 432x288 with 1 Axes>"
      ]
     },
     "metadata": {
      "needs_background": "light"
     },
     "output_type": "display_data"
    }
   ],
   "source": [
    "# Undersampling with random sampling\n",
    "from imblearn.under_sampling import RandomUnderSampler\n",
    "\n",
    "rus = RandomUnderSampler(random_state=0, sampling_strategy='majority')\n",
    "\n",
    "X_under, y_under = rus.fit_resample(X_normal, y_normal)\n",
    "sns.countplot(x=y_under)\n",
    "plt.show()"
   ]
  },
  {
   "cell_type": "code",
   "execution_count": 45,
   "metadata": {},
   "outputs": [
    {
     "data": {
      "text/plain": [
       "(11142, 5439)"
      ]
     },
     "execution_count": 45,
     "metadata": {},
     "output_type": "execute_result"
    }
   ],
   "source": [
    "# Vectorizing data with TF IDF\n",
    "from sklearn.feature_extraction.text import TfidfVectorizer\n",
    "vectorizer = TfidfVectorizer()\n",
    "X_tf_under = vectorizer.fit_transform(X_under.values.ravel())\n",
    "X_tf_normal = vectorizer.transform(X_normal.values.ravel())\n",
    "X_tf_normal.shape"
   ]
  },
  {
   "cell_type": "code",
   "execution_count": 46,
   "metadata": {},
   "outputs": [
    {
     "data": {
      "text/plain": [
       "(3026, 5439)"
      ]
     },
     "execution_count": 46,
     "metadata": {},
     "output_type": "execute_result"
    }
   ],
   "source": [
    "# Check if the column's size is the same\n",
    "X_tf_under.shape"
   ]
  },
  {
   "cell_type": "code",
   "execution_count": 47,
   "metadata": {},
   "outputs": [],
   "source": [
    "# Splitting into holdout\n",
    "from sklearn.model_selection import train_test_split\n",
    "\n",
    "X_train_normal, X_test_normal, y_train_normal, y_test_normal = train_test_split(\n",
    "    X_tf_normal, \n",
    "    y_normal, \n",
    "    test_size=0.2, \n",
    "    random_state=0\n",
    "    )\n",
    "\n",
    "X_train_under, X_test_under , y_train_under, y_test_under = train_test_split(\n",
    "    X_tf_under, \n",
    "    y_under, \n",
    "    test_size=0.2, \n",
    "    random_state=0)"
   ]
  },
  {
   "cell_type": "code",
   "execution_count": 99,
   "metadata": {},
   "outputs": [
    {
     "name": "stdout",
     "output_type": "stream",
     "text": [
      "Best F1-Score Normal Sample : 0.741417494365934\n",
      "Best C-Value Normal Sample  : {'C': 3.727593720314938}\n",
      "Best F1-Score Under Sample : 0.8774403195847101\n",
      "Best C-Value Under Sample  : {'C': 3.727593720314938}\n"
     ]
    }
   ],
   "source": [
    "# Make a logistic regression model and gridsearchcv\n",
    "from sklearn.linear_model import LogisticRegression\n",
    "from sklearn.model_selection import GridSearchCV\n",
    "from warnings import filterwarnings\n",
    "\n",
    "# Ignoring warnings\n",
    "filterwarnings('ignore')\n",
    "\n",
    "logreg = LogisticRegression()\n",
    "c_space = np.logspace(-5, 8, 15)\n",
    "params = {\n",
    "    'C': c_space,\n",
    "}\n",
    "\n",
    "gridReg_normal = GridSearchCV(logreg, params, cv=10, scoring=\"f1\")\n",
    "gridReg_under = GridSearchCV(logreg, params, cv=10, scoring=\"f1\")\n",
    "\n",
    "gridReg_normal.fit(X_train_normal, y_train_normal)\n",
    "gridReg_under.fit(X_train_under, y_train_under)\n",
    "\n",
    "print(f\"Best F1-Score Normal Sample : {gridReg_normal.best_score_}\")\n",
    "print(f\"Best C-Value Normal Sample  : {gridReg_normal.best_params_}\")\n",
    "\n",
    "print(f\"Best F1-Score Under Sample : {gridReg_under.best_score_}\")\n",
    "print(f\"Best C-Value Under Sample  : {gridReg_under.best_params_}\")"
   ]
  },
  {
   "cell_type": "markdown",
   "metadata": {},
   "source": [
    "## Evaluasi Model\n",
    "Proses evaluasi dengan menggunakan test set"
   ]
  },
  {
   "cell_type": "code",
   "execution_count": 100,
   "metadata": {},
   "outputs": [],
   "source": [
    "# Predicting with testing set\n",
    "y_pred_normal = gridReg_normal.predict(X_test_normal)\n",
    "y_pred_under = gridReg_under.predict(X_test_under)"
   ]
  },
  {
   "cell_type": "code",
   "execution_count": 101,
   "metadata": {},
   "outputs": [
    {
     "name": "stdout",
     "output_type": "stream",
     "text": [
      "F1-Score Normal Sample : 0.7773972602739726\n",
      "FI-Score Under Sample  : 0.8896925858951176\n"
     ]
    }
   ],
   "source": [
    "# Scoring with f1 score\n",
    "from sklearn.metrics import f1_score\n",
    "print(f\"F1-Score Normal Sample : {f1_score(y_test_normal, y_pred_normal)}\")\n",
    "print(f\"FI-Score Under Sample  : {f1_score(y_test_under, y_pred_under)}\")"
   ]
  },
  {
   "cell_type": "code",
   "execution_count": 102,
   "metadata": {},
   "outputs": [
    {
     "data": {
      "image/png": "[encoded data removed]",
      "text/plain": [
       "<Figure size 432x288 with 1 Axes>"
      ]
     },
     "metadata": {
      "needs_background": "light"
     },
     "output_type": "display_data"
    }
   ],
   "source": [
    "# Scoring with ROC curve\n",
    "from sklearn.metrics import roc_curve\n",
    "\n",
    "y_pred_normal_prob = gridReg_normal.predict_proba(X_test_normal)[:, 1]\n",
    "y_pred_under_prob = gridReg_under.predict_proba(X_test_under)[:, 1]\n",
    "\n",
    "fpr_normal, tpr_normal, thesholds_normal = roc_curve(y_test_normal, y_pred_normal_prob)\n",
    "fpr_under, tpr_under, thesholds_under = roc_curve(y_test_under, y_pred_under_prob)\n",
    "\n",
    "# Plotting ROC curve on normal sample\n",
    "plt.plot([0, 1], [0, 1], 'k--')\n",
    "plt.plot(fpr_normal, tpr_normal)\n",
    "plt.xlabel('False Positive Rate')\n",
    "plt.ylabel('True Positive Rate')\n",
    "plt.title('ROC Curve On Normal Sample')\n",
    "\n",
    "\n",
    "# Plotting ROC curve on under sample\n",
    "plt.plot(fpr_under, tpr_under)\n",
    "plt.xlabel('False Positive Rate')\n",
    "plt.ylabel('True Positive Rate')\n",
    "plt.title('ROC Curve On Under Sample')\n",
    "plt.legend([\"Baseline\",\"Normal Sample\" ,\"Under Sample\"])\n",
    "plt.show()"
   ]
  },
  {
   "cell_type": "code",
   "execution_count": 103,
   "metadata": {},
   "outputs": [
    {
     "name": "stdout",
     "output_type": "stream",
     "text": [
      "Normal sample AUC score : 0.9491534174648522\n",
      "Under sample AUC score  : 0.9557842868874898\n"
     ]
    }
   ],
   "source": [
    "# Scoring with AUC score\n",
    "from sklearn.metrics import roc_auc_score\n",
    "\n",
    "print(f\"Normal sample AUC score : {roc_auc_score(y_test_normal, y_pred_normal_prob)}\")\n",
    "print(f\"Under sample AUC score  : {roc_auc_score(y_test_under, y_pred_under_prob)}\")"
   ]
  },
  {
   "cell_type": "code",
   "execution_count": 104,
   "metadata": {},
   "outputs": [
    {
     "data": {
      "image/png": "[encoded data removed]",
      "text/plain": [
       "<Figure size 504x360 with 1 Axes>"
      ]
     },
     "metadata": {
      "needs_background": "light"
     },
     "output_type": "display_data"
    }
   ],
   "source": [
    "# Scoring with recall precision curve\n",
    "from sklearn.metrics import precision_recall_curve\n",
    "\n",
    "precision_normal, recall_normal, thresholds_normal = precision_recall_curve(y_test_normal, y_pred_normal_prob)\n",
    "precision_under, recall_under, thresholds_under = precision_recall_curve(y_test_under, y_pred_under_prob)\n",
    "\n",
    "# Figure size\n",
    "plt.figure(figsize=(7, 5))\n",
    "\n",
    "# Plotting recall precision curve on normal sample\n",
    "baseline_normal = len(y_test_normal[y_test_normal == 1]) / len(y_test_normal)\n",
    "plt.plot([0, 1], [baseline_normal, baseline_normal], 'k--', color='blue')\n",
    "plt.plot(recall_normal, precision_normal)\n",
    "plt.xlabel('Recall')\n",
    "plt.ylabel('Precision')\n",
    "plt.title('Recall Precision Curve On Normal Sample')\n",
    "\n",
    "# Plotting recall precision curve on under sample\n",
    "baseline_under = len(y_test_under[y_test_under == 1]) / len(y_test_under)\n",
    "plt.plot([0, 1], [baseline_under, baseline_under], 'k--', color=\"orange\")\n",
    "plt.plot(recall_under, precision_under)\n",
    "plt.xlabel('Recall')\n",
    "plt.ylabel('Precision')\n",
    "plt.title('Recall Precision Curve On Under Sample')\n",
    "plt.legend([\n",
    "    \"Normal Sample Baseline\", \"Normal Sample\", \"Under Sample Baseline\",\n",
    "    \"Under Sample\"\n",
    "], bbox_to_anchor=(1.04, 1), loc=\"upper left\")\n",
    "plt.show()\n"
   ]
  },
  {
   "cell_type": "markdown",
   "metadata": {},
   "source": [
    "### Kesimpulan Modeling\n",
    "\n",
    "Dengan menggunakan logistic regression, hasil score tertinggi adalah ketika data dilakukan proses under sampling. Tapi hal tersebut belum bisa menjadi acuan apakah model ML sudah reliable atau belum. Konteks yang harus diingat adalah dataset diperoleh dari suatu hotel yang memiliki reputasi buruk. Sehingga review negatif tentunya lebih banyak dibandingkan dengan review positif. Jadi, untuk melakukan prediksi selanjutnya akan tetap menggunakan kedua model yang belum dan sudah di sampling.\n",
    "\n",
    "------\n",
    "\n",
    "## Prediksi test dataset untuk submission"
   ]
  },
  {
   "cell_type": "code",
   "execution_count": 105,
   "metadata": {},
   "outputs": [
    {
     "data": {
      "text/html": [
       "<div>\n",
       "<style scoped>\n",
       "    .dataframe tbody tr th:only-of-type {\n",
       "        vertical-align: middle;\n",
       "    }\n",
       "\n",
       "    .dataframe tbody tr th {\n",
       "        vertical-align: top;\n",
       "    }\n",
       "\n",
       "    .dataframe thead th {\n",
       "        text-align: right;\n",
       "    }\n",
       "</style>\n",
       "<table border=\"1\" class=\"dataframe\">\n",
       "  <thead>\n",
       "    <tr style=\"text-align: right;\">\n",
       "      <th></th>\n",
       "      <th>id</th>\n",
       "      <th>review</th>\n",
       "    </tr>\n",
       "  </thead>\n",
       "  <tbody>\n",
       "    <tr>\n",
       "      <th>0</th>\n",
       "      <td>263aqhh4ymyaubmb</td>\n",
       "      <td>tv nya rusak.....kamar mandi kurang bersih...</td>\n",
       "    </tr>\n",
       "    <tr>\n",
       "      <th>1</th>\n",
       "      <td>36frqq1ne0ljsgtj</td>\n",
       "      <td>SO BAD REALLY BAD VERY BAD BAD AND BAD RECEPTI...</td>\n",
       "    </tr>\n",
       "    <tr>\n",
       "      <th>2</th>\n",
       "      <td>4dbq2twnu8nd9ztm</td>\n",
       "      <td>SANGAT MENGECEWAKAN. SAAT MASUK KAMAR, LANTAI ...</td>\n",
       "    </tr>\n",
       "    <tr>\n",
       "      <th>3</th>\n",
       "      <td>hbsb134diyefkd3i</td>\n",
       "      <td>Shower tidak berfungsi</td>\n",
       "    </tr>\n",
       "    <tr>\n",
       "      <th>4</th>\n",
       "      <td>o068bc8hfiisuwon</td>\n",
       "      <td>privasi sangat minim karena suara kamar tetang...</td>\n",
       "    </tr>\n",
       "  </tbody>\n",
       "</table>\n",
       "</div>"
      ],
      "text/plain": [
       "                 id                                             review\n",
       "0  263aqhh4ymyaubmb      tv nya rusak.....kamar mandi kurang bersih...\n",
       "1  36frqq1ne0ljsgtj  SO BAD REALLY BAD VERY BAD BAD AND BAD RECEPTI...\n",
       "2  4dbq2twnu8nd9ztm  SANGAT MENGECEWAKAN. SAAT MASUK KAMAR, LANTAI ...\n",
       "3  hbsb134diyefkd3i                             Shower tidak berfungsi\n",
       "4  o068bc8hfiisuwon  privasi sangat minim karena suara kamar tetang..."
      ]
     },
     "execution_count": 105,
     "metadata": {},
     "output_type": "execute_result"
    }
   ],
   "source": [
    "test_df = pd.read_csv(\"data/test.csv\")\n",
    "test_df.head()"
   ]
  },
  {
   "cell_type": "code",
   "execution_count": 107,
   "metadata": {},
   "outputs": [
    {
     "data": {
      "text/plain": [
       "(3714, 5439)"
      ]
     },
     "execution_count": 107,
     "metadata": {},
     "output_type": "execute_result"
    }
   ],
   "source": [
    "X_test_final = vectorizer.transform(test_df[\"review\"].values.ravel())\n",
    "X_test_final.shape"
   ]
  },
  {
   "cell_type": "code",
   "execution_count": 108,
   "metadata": {},
   "outputs": [
    {
     "data": {
      "text/html": [
       "<div>\n",
       "<style scoped>\n",
       "    .dataframe tbody tr th:only-of-type {\n",
       "        vertical-align: middle;\n",
       "    }\n",
       "\n",
       "    .dataframe tbody tr th {\n",
       "        vertical-align: top;\n",
       "    }\n",
       "\n",
       "    .dataframe thead th {\n",
       "        text-align: right;\n",
       "    }\n",
       "</style>\n",
       "<table border=\"1\" class=\"dataframe\">\n",
       "  <thead>\n",
       "    <tr style=\"text-align: right;\">\n",
       "      <th></th>\n",
       "      <th>id</th>\n",
       "      <th>review</th>\n",
       "      <th>pred_normal</th>\n",
       "      <th>pred_under</th>\n",
       "    </tr>\n",
       "  </thead>\n",
       "  <tbody>\n",
       "    <tr>\n",
       "      <th>0</th>\n",
       "      <td>263aqhh4ymyaubmb</td>\n",
       "      <td>tv nya rusak.....kamar mandi kurang bersih...</td>\n",
       "      <td>0</td>\n",
       "      <td>0</td>\n",
       "    </tr>\n",
       "    <tr>\n",
       "      <th>1</th>\n",
       "      <td>36frqq1ne0ljsgtj</td>\n",
       "      <td>SO BAD REALLY BAD VERY BAD BAD AND BAD RECEPTI...</td>\n",
       "      <td>0</td>\n",
       "      <td>0</td>\n",
       "    </tr>\n",
       "    <tr>\n",
       "      <th>2</th>\n",
       "      <td>4dbq2twnu8nd9ztm</td>\n",
       "      <td>SANGAT MENGECEWAKAN. SAAT MASUK KAMAR, LANTAI ...</td>\n",
       "      <td>0</td>\n",
       "      <td>0</td>\n",
       "    </tr>\n",
       "    <tr>\n",
       "      <th>3</th>\n",
       "      <td>hbsb134diyefkd3i</td>\n",
       "      <td>Shower tidak berfungsi</td>\n",
       "      <td>0</td>\n",
       "      <td>0</td>\n",
       "    </tr>\n",
       "    <tr>\n",
       "      <th>4</th>\n",
       "      <td>o068bc8hfiisuwon</td>\n",
       "      <td>privasi sangat minim karena suara kamar tetang...</td>\n",
       "      <td>0</td>\n",
       "      <td>0</td>\n",
       "    </tr>\n",
       "  </tbody>\n",
       "</table>\n",
       "</div>"
      ],
      "text/plain": [
       "                 id                                             review  \\\n",
       "0  263aqhh4ymyaubmb      tv nya rusak.....kamar mandi kurang bersih...   \n",
       "1  36frqq1ne0ljsgtj  SO BAD REALLY BAD VERY BAD BAD AND BAD RECEPTI...   \n",
       "2  4dbq2twnu8nd9ztm  SANGAT MENGECEWAKAN. SAAT MASUK KAMAR, LANTAI ...   \n",
       "3  hbsb134diyefkd3i                             Shower tidak berfungsi   \n",
       "4  o068bc8hfiisuwon  privasi sangat minim karena suara kamar tetang...   \n",
       "\n",
       "   pred_normal  pred_under  \n",
       "0            0           0  \n",
       "1            0           0  \n",
       "2            0           0  \n",
       "3            0           0  \n",
       "4            0           0  "
      ]
     },
     "execution_count": 108,
     "metadata": {},
     "output_type": "execute_result"
    }
   ],
   "source": [
    "y_pred_final_normal = gridReg_normal.predict(X_test_final)\n",
    "y_pred_final_under = gridReg_under.predict(X_test_final)\n",
    "\n",
    "test_df[\"pred_normal\"] = y_pred_final_normal\n",
    "test_df[\"pred_under\"] = y_pred_final_under\n",
    "test_df.head()"
   ]
  },
  {
   "cell_type": "code",
   "execution_count": 110,
   "metadata": {},
   "outputs": [],
   "source": [
    "# Saving the predictions to csv\n",
    "test_df.to_csv(\"percobaan3/predictions.csv\", index=False)"
   ]
  },
  {
   "cell_type": "code",
   "execution_count": 111,
   "metadata": {},
   "outputs": [],
   "source": [
    "# Saving the predictions to excel\n",
    "test_df.to_excel(\"percobaan3/predictions.xlsx\", index=False)"
   ]
  },
  {
   "cell_type": "markdown",
   "metadata": {},
   "source": [
    "## Penutupan\n",
    "Setelah melakukan pencocokan secara manual dengan beberapa sample, ternyata dataset yang tidak melalui tahap undersample jauh lebih akurat dalam mengklasifikasikan apakah review baik atau buruk.\n",
    "Yang menjadi pertanyaan, apakah ini termasuk sentiment analysis?\n",
    "\n",
    "Perbaikan untuk kedepannya:\n",
    "1. Belajar data cleaning untuk text data\n",
    "2. Belajar EDA untuk text data seperti word cloud"
   ]
  }
 ],
 "metadata": {
  "interpreter": {
   "hash": "2358c7718a06ce74613d3ca23af7963e3dc3a98263e194a13e6cf112cb830610"
  },
  "kernelspec": {
   "display_name": "Python 3.9.6 64-bit ('DataScience': conda)",
   "language": "python",
   "name": "python3"
  },
  "language_info": {
   "codemirror_mode": {
    "name": "ipython",
    "version": 3
   },
   "file_extension": ".py",
   "mimetype": "text/x-python",
   "name": "python",
   "nbconvert_exporter": "python",
   "pygments_lexer": "ipython3",
   "version": "3.9.6"
  },
  "orig_nbformat": 4
 },
 "nbformat": 4,
 "nbformat_minor": 2
}
